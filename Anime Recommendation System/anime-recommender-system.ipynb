{
 "cells": [
  {
   "cell_type": "code",
   "execution_count": 1,
   "id": "single-allergy",
   "metadata": {
    "_kg_hide-input": false,
    "execution": {
     "iopub.execute_input": "2021-06-09T15:51:32.866363Z",
     "iopub.status.busy": "2021-06-09T15:51:32.865222Z",
     "iopub.status.idle": "2021-06-09T15:51:33.613427Z",
     "shell.execute_reply": "2021-06-09T15:51:33.612735Z",
     "shell.execute_reply.started": "2021-06-09T14:33:16.025346Z"
    },
    "papermill": {
     "duration": 0.788085,
     "end_time": "2021-06-09T15:51:33.613580",
     "exception": false,
     "start_time": "2021-06-09T15:51:32.825495",
     "status": "completed"
    },
    "tags": []
   },
   "outputs": [
    {
     "name": "stdout",
     "output_type": "stream",
     "text": [
      " anime.csv\t\t   animelist.csv   rating_complete.csv\r\n",
      " anime_with_synopsis.csv  'html folder'    watching_status.csv\r\n"
     ]
    }
   ],
   "source": [
    "INPUT_DIR = '/kaggle/input/anime-recommendation-database-2020'\n",
    "!ls {INPUT_DIR}"
   ]
  },
  {
   "cell_type": "code",
   "execution_count": 2,
   "id": "composed-samba",
   "metadata": {
    "execution": {
     "iopub.execute_input": "2021-06-09T15:51:33.702571Z",
     "iopub.status.busy": "2021-06-09T15:51:33.700742Z",
     "iopub.status.idle": "2021-06-09T15:52:37.521693Z",
     "shell.execute_reply": "2021-06-09T15:52:37.522203Z",
     "shell.execute_reply.started": "2021-06-09T14:33:17.926012Z"
    },
    "papermill": {
     "duration": 63.871387,
     "end_time": "2021-06-09T15:52:37.522382",
     "exception": false,
     "start_time": "2021-06-09T15:51:33.650995",
     "status": "completed"
    },
    "tags": []
   },
   "outputs": [
    {
     "data": {
      "text/html": [
       "<div>\n",
       "<style scoped>\n",
       "    .dataframe tbody tr th:only-of-type {\n",
       "        vertical-align: middle;\n",
       "    }\n",
       "\n",
       "    .dataframe tbody tr th {\n",
       "        vertical-align: top;\n",
       "    }\n",
       "\n",
       "    .dataframe thead th {\n",
       "        text-align: right;\n",
       "    }\n",
       "</style>\n",
       "<table border=\"1\" class=\"dataframe\">\n",
       "  <thead>\n",
       "    <tr style=\"text-align: right;\">\n",
       "      <th></th>\n",
       "      <th>user_id</th>\n",
       "      <th>anime_id</th>\n",
       "      <th>rating</th>\n",
       "    </tr>\n",
       "  </thead>\n",
       "  <tbody>\n",
       "    <tr>\n",
       "      <th>0</th>\n",
       "      <td>0</td>\n",
       "      <td>67</td>\n",
       "      <td>9</td>\n",
       "    </tr>\n",
       "    <tr>\n",
       "      <th>1</th>\n",
       "      <td>0</td>\n",
       "      <td>6702</td>\n",
       "      <td>7</td>\n",
       "    </tr>\n",
       "    <tr>\n",
       "      <th>2</th>\n",
       "      <td>0</td>\n",
       "      <td>242</td>\n",
       "      <td>10</td>\n",
       "    </tr>\n",
       "    <tr>\n",
       "      <th>3</th>\n",
       "      <td>0</td>\n",
       "      <td>4898</td>\n",
       "      <td>0</td>\n",
       "    </tr>\n",
       "  </tbody>\n",
       "</table>\n",
       "</div>"
      ],
      "text/plain": [
       "   user_id  anime_id  rating\n",
       "0        0        67       9\n",
       "1        0      6702       7\n",
       "2        0       242      10\n",
       "3        0      4898       0"
      ]
     },
     "execution_count": 2,
     "metadata": {},
     "output_type": "execute_result"
    }
   ],
   "source": [
    "import numpy as np\n",
    "import pandas as pd\n",
    "\n",
    "rating_df = pd.read_csv(INPUT_DIR + '/animelist.csv', \n",
    "                        low_memory=False, \n",
    "                        usecols=[\"user_id\", \"anime_id\", \"rating\"]\n",
    "                        #, nrows=90000000\n",
    "                        )\n",
    "rating_df.head(4)"
   ]
  },
  {
   "cell_type": "code",
   "execution_count": 3,
   "id": "sustained-highlight",
   "metadata": {
    "execution": {
     "iopub.execute_input": "2021-06-09T15:52:37.605499Z",
     "iopub.status.busy": "2021-06-09T15:52:37.604871Z",
     "iopub.status.idle": "2021-06-09T15:52:42.409512Z",
     "shell.execute_reply": "2021-06-09T15:52:42.409006Z",
     "shell.execute_reply.started": "2021-06-09T14:37:33.014359Z"
    },
    "papermill": {
     "duration": 4.850256,
     "end_time": "2021-06-09T15:52:42.409651",
     "exception": false,
     "start_time": "2021-06-09T15:52:37.559395",
     "status": "completed"
    },
    "tags": []
   },
   "outputs": [
    {
     "data": {
      "text/plain": [
       "71418114"
      ]
     },
     "execution_count": 3,
     "metadata": {},
     "output_type": "execute_result"
    }
   ],
   "source": [
    "# User should rate atleast 400 animies\n",
    "n_ratings = rating_df['user_id'].value_counts()\n",
    "rating_df = rating_df[rating_df['user_id'].isin(n_ratings[n_ratings >= 400].index)].copy()\n",
    "len(rating_df)"
   ]
  },
  {
   "cell_type": "code",
   "execution_count": 4,
   "id": "invalid-paper",
   "metadata": {
    "execution": {
     "iopub.execute_input": "2021-06-09T15:53:00.348096Z",
     "iopub.status.busy": "2021-06-09T15:53:00.347413Z",
     "iopub.status.idle": "2021-06-09T15:53:35.352533Z",
     "shell.execute_reply": "2021-06-09T15:53:35.353262Z",
     "shell.execute_reply.started": "2021-06-09T14:37:38.328758Z"
    },
    "papermill": {
     "duration": 52.905321,
     "end_time": "2021-06-09T15:53:35.353491",
     "exception": false,
     "start_time": "2021-06-09T15:52:42.448170",
     "status": "completed"
    },
    "tags": []
   },
   "outputs": [
    {
     "name": "stdout",
     "output_type": "stream",
     "text": [
      "Avg 0.4047793589172634\n"
     ]
    }
   ],
   "source": [
    "# Scaling BTW (0 , 1.0)\n",
    "min_rating = min(rating_df['rating'])\n",
    "max_rating = max(rating_df['rating'])\n",
    "rating_df['rating'] = rating_df[\"rating\"].apply(lambda x: (x - min_rating) / (max_rating - min_rating)).values.astype(np.float64)\n",
    "\n",
    "AvgRating = np.mean(rating_df['rating'])\n",
    "print('Avg', AvgRating)"
   ]
  },
  {
   "cell_type": "code",
   "execution_count": 5,
   "id": "downtown-somerset",
   "metadata": {
    "execution": {
     "iopub.execute_input": "2021-06-09T15:53:35.438888Z",
     "iopub.status.busy": "2021-06-09T15:53:35.438232Z",
     "iopub.status.idle": "2021-06-09T15:54:22.433417Z",
     "shell.execute_reply": "2021-06-09T15:54:22.433957Z",
     "shell.execute_reply.started": "2021-06-09T14:38:37.107526Z"
    },
    "papermill": {
     "duration": 47.041247,
     "end_time": "2021-06-09T15:54:22.434134",
     "exception": false,
     "start_time": "2021-06-09T15:53:35.392887",
     "status": "completed"
    },
    "tags": []
   },
   "outputs": [
    {
     "name": "stdout",
     "output_type": "stream",
     "text": [
      "> 1 duplicates\n",
      "> 0 duplicates\n"
     ]
    }
   ],
   "source": [
    "# Removing Duplicated Rows\n",
    "duplicates = rating_df.duplicated()\n",
    "\n",
    "if duplicates.sum() > 0:\n",
    "    print('> {} duplicates'.format(duplicates.sum()))\n",
    "    rating_df = rating_df[~duplicates]\n",
    "\n",
    "print('> {} duplicates'.format(rating_df.duplicated().sum()))"
   ]
  },
  {
   "cell_type": "code",
   "execution_count": 6,
   "id": "extreme-disco",
   "metadata": {
    "_kg_hide-input": false,
    "execution": {
     "iopub.execute_input": "2021-06-09T15:54:22.593221Z",
     "iopub.status.busy": "2021-06-09T15:54:22.592243Z",
     "iopub.status.idle": "2021-06-09T15:54:28.701631Z",
     "shell.execute_reply": "2021-06-09T15:54:28.701001Z",
     "shell.execute_reply.started": "2021-06-09T14:39:31.746788Z"
    },
    "papermill": {
     "duration": 6.150702,
     "end_time": "2021-06-09T15:54:28.701764",
     "exception": false,
     "start_time": "2021-06-09T15:54:22.551062",
     "status": "completed"
    },
    "tags": []
   },
   "outputs": [
    {
     "data": {
      "text/html": [
       "<div>\n",
       "<style scoped>\n",
       "    .dataframe tbody tr th:only-of-type {\n",
       "        vertical-align: middle;\n",
       "    }\n",
       "\n",
       "    .dataframe tbody tr th {\n",
       "        vertical-align: top;\n",
       "    }\n",
       "\n",
       "    .dataframe thead th {\n",
       "        text-align: right;\n",
       "    }\n",
       "</style>\n",
       "<table border=\"1\" class=\"dataframe\">\n",
       "  <thead>\n",
       "    <tr style=\"text-align: right;\">\n",
       "      <th>anime_id</th>\n",
       "      <th>226</th>\n",
       "      <th>1535</th>\n",
       "      <th>1575</th>\n",
       "      <th>2001</th>\n",
       "      <th>2167</th>\n",
       "      <th>4224</th>\n",
       "      <th>5081</th>\n",
       "      <th>5114</th>\n",
       "      <th>6547</th>\n",
       "      <th>6746</th>\n",
       "      <th>9253</th>\n",
       "      <th>9989</th>\n",
       "      <th>10620</th>\n",
       "      <th>11757</th>\n",
       "      <th>15809</th>\n",
       "      <th>16498</th>\n",
       "      <th>19815</th>\n",
       "      <th>20507</th>\n",
       "      <th>22319</th>\n",
       "      <th>30276</th>\n",
       "    </tr>\n",
       "    <tr>\n",
       "      <th>user_id</th>\n",
       "      <th></th>\n",
       "      <th></th>\n",
       "      <th></th>\n",
       "      <th></th>\n",
       "      <th></th>\n",
       "      <th></th>\n",
       "      <th></th>\n",
       "      <th></th>\n",
       "      <th></th>\n",
       "      <th></th>\n",
       "      <th></th>\n",
       "      <th></th>\n",
       "      <th></th>\n",
       "      <th></th>\n",
       "      <th></th>\n",
       "      <th></th>\n",
       "      <th></th>\n",
       "      <th></th>\n",
       "      <th></th>\n",
       "      <th></th>\n",
       "    </tr>\n",
       "  </thead>\n",
       "  <tbody>\n",
       "    <tr>\n",
       "      <th>20807</th>\n",
       "      <td>1.0</td>\n",
       "      <td>1.0</td>\n",
       "      <td>1.0</td>\n",
       "      <td>1.0</td>\n",
       "      <td>0.8</td>\n",
       "      <td>1.0</td>\n",
       "      <td>0.9</td>\n",
       "      <td>1.0</td>\n",
       "      <td>1.0</td>\n",
       "      <td>1.0</td>\n",
       "      <td>1.0</td>\n",
       "      <td>0.9</td>\n",
       "      <td>1.0</td>\n",
       "      <td>1.0</td>\n",
       "      <td>0.8</td>\n",
       "      <td>1.0</td>\n",
       "      <td>1.0</td>\n",
       "      <td>1.0</td>\n",
       "      <td>1.0</td>\n",
       "      <td>1.0</td>\n",
       "    </tr>\n",
       "    <tr>\n",
       "      <th>50485</th>\n",
       "      <td>0.0</td>\n",
       "      <td>0.6</td>\n",
       "      <td>1.0</td>\n",
       "      <td>1.0</td>\n",
       "      <td>0.9</td>\n",
       "      <td>1.0</td>\n",
       "      <td>1.0</td>\n",
       "      <td>1.0</td>\n",
       "      <td>1.0</td>\n",
       "      <td>0.9</td>\n",
       "      <td>1.0</td>\n",
       "      <td>0.9</td>\n",
       "      <td>0.6</td>\n",
       "      <td>1.0</td>\n",
       "      <td>1.0</td>\n",
       "      <td>0.9</td>\n",
       "      <td>1.0</td>\n",
       "      <td>1.0</td>\n",
       "      <td>1.0</td>\n",
       "      <td>0.8</td>\n",
       "    </tr>\n",
       "    <tr>\n",
       "      <th>63900</th>\n",
       "      <td>0.7</td>\n",
       "      <td>0.0</td>\n",
       "      <td>0.0</td>\n",
       "      <td>0.0</td>\n",
       "      <td>0.0</td>\n",
       "      <td>0.0</td>\n",
       "      <td>0.0</td>\n",
       "      <td>0.9</td>\n",
       "      <td>0.0</td>\n",
       "      <td>0.0</td>\n",
       "      <td>0.0</td>\n",
       "      <td>0.8</td>\n",
       "      <td>0.0</td>\n",
       "      <td>0.0</td>\n",
       "      <td>0.0</td>\n",
       "      <td>0.8</td>\n",
       "      <td>0.0</td>\n",
       "      <td>0.8</td>\n",
       "      <td>0.8</td>\n",
       "      <td>0.8</td>\n",
       "    </tr>\n",
       "    <tr>\n",
       "      <th>68042</th>\n",
       "      <td>0.8</td>\n",
       "      <td>1.0</td>\n",
       "      <td>0.9</td>\n",
       "      <td>1.0</td>\n",
       "      <td>0.7</td>\n",
       "      <td>0.9</td>\n",
       "      <td>1.0</td>\n",
       "      <td>0.9</td>\n",
       "      <td>0.7</td>\n",
       "      <td>0.8</td>\n",
       "      <td>0.9</td>\n",
       "      <td>0.8</td>\n",
       "      <td>0.4</td>\n",
       "      <td>0.4</td>\n",
       "      <td>0.6</td>\n",
       "      <td>0.9</td>\n",
       "      <td>0.3</td>\n",
       "      <td>0.2</td>\n",
       "      <td>0.5</td>\n",
       "      <td>0.9</td>\n",
       "    </tr>\n",
       "    <tr>\n",
       "      <th>85472</th>\n",
       "      <td>0.7</td>\n",
       "      <td>0.0</td>\n",
       "      <td>0.0</td>\n",
       "      <td>1.0</td>\n",
       "      <td>0.9</td>\n",
       "      <td>0.9</td>\n",
       "      <td>0.0</td>\n",
       "      <td>0.0</td>\n",
       "      <td>1.0</td>\n",
       "      <td>0.0</td>\n",
       "      <td>0.8</td>\n",
       "      <td>0.0</td>\n",
       "      <td>0.8</td>\n",
       "      <td>0.9</td>\n",
       "      <td>0.8</td>\n",
       "      <td>0.8</td>\n",
       "      <td>0.7</td>\n",
       "      <td>0.7</td>\n",
       "      <td>0.7</td>\n",
       "      <td>0.9</td>\n",
       "    </tr>\n",
       "    <tr>\n",
       "      <th>92529</th>\n",
       "      <td>0.9</td>\n",
       "      <td>0.9</td>\n",
       "      <td>1.0</td>\n",
       "      <td>1.0</td>\n",
       "      <td>0.0</td>\n",
       "      <td>0.8</td>\n",
       "      <td>0.0</td>\n",
       "      <td>0.9</td>\n",
       "      <td>0.9</td>\n",
       "      <td>0.0</td>\n",
       "      <td>1.0</td>\n",
       "      <td>0.0</td>\n",
       "      <td>0.8</td>\n",
       "      <td>0.9</td>\n",
       "      <td>0.8</td>\n",
       "      <td>0.9</td>\n",
       "      <td>0.9</td>\n",
       "      <td>0.8</td>\n",
       "      <td>0.8</td>\n",
       "      <td>1.0</td>\n",
       "    </tr>\n",
       "    <tr>\n",
       "      <th>122341</th>\n",
       "      <td>0.2</td>\n",
       "      <td>0.3</td>\n",
       "      <td>0.2</td>\n",
       "      <td>0.7</td>\n",
       "      <td>0.4</td>\n",
       "      <td>0.3</td>\n",
       "      <td>0.3</td>\n",
       "      <td>0.8</td>\n",
       "      <td>0.5</td>\n",
       "      <td>0.6</td>\n",
       "      <td>0.7</td>\n",
       "      <td>0.3</td>\n",
       "      <td>0.2</td>\n",
       "      <td>0.1</td>\n",
       "      <td>0.3</td>\n",
       "      <td>0.1</td>\n",
       "      <td>0.4</td>\n",
       "      <td>0.4</td>\n",
       "      <td>0.2</td>\n",
       "      <td>0.6</td>\n",
       "    </tr>\n",
       "    <tr>\n",
       "      <th>131988</th>\n",
       "      <td>0.0</td>\n",
       "      <td>0.0</td>\n",
       "      <td>0.0</td>\n",
       "      <td>0.0</td>\n",
       "      <td>0.0</td>\n",
       "      <td>0.0</td>\n",
       "      <td>0.0</td>\n",
       "      <td>0.0</td>\n",
       "      <td>0.0</td>\n",
       "      <td>0.0</td>\n",
       "      <td>0.0</td>\n",
       "      <td>0.0</td>\n",
       "      <td>0.0</td>\n",
       "      <td>0.0</td>\n",
       "      <td>0.0</td>\n",
       "      <td>0.0</td>\n",
       "      <td>0.0</td>\n",
       "      <td>0.0</td>\n",
       "      <td>0.0</td>\n",
       "      <td>0.0</td>\n",
       "    </tr>\n",
       "    <tr>\n",
       "      <th>140590</th>\n",
       "      <td>0.3</td>\n",
       "      <td>0.6</td>\n",
       "      <td>0.5</td>\n",
       "      <td>0.8</td>\n",
       "      <td>0.6</td>\n",
       "      <td>0.8</td>\n",
       "      <td>0.8</td>\n",
       "      <td>0.9</td>\n",
       "      <td>0.5</td>\n",
       "      <td>0.8</td>\n",
       "      <td>0.9</td>\n",
       "      <td>0.7</td>\n",
       "      <td>0.3</td>\n",
       "      <td>0.4</td>\n",
       "      <td>0.6</td>\n",
       "      <td>0.5</td>\n",
       "      <td>0.7</td>\n",
       "      <td>0.7</td>\n",
       "      <td>0.5</td>\n",
       "      <td>0.7</td>\n",
       "    </tr>\n",
       "    <tr>\n",
       "      <th>147331</th>\n",
       "      <td>0.0</td>\n",
       "      <td>0.0</td>\n",
       "      <td>0.0</td>\n",
       "      <td>0.0</td>\n",
       "      <td>0.0</td>\n",
       "      <td>0.0</td>\n",
       "      <td>0.0</td>\n",
       "      <td>0.0</td>\n",
       "      <td>0.0</td>\n",
       "      <td>0.0</td>\n",
       "      <td>0.0</td>\n",
       "      <td>0.0</td>\n",
       "      <td>0.0</td>\n",
       "      <td>0.0</td>\n",
       "      <td>0.0</td>\n",
       "      <td>0.0</td>\n",
       "      <td>0.0</td>\n",
       "      <td>0.0</td>\n",
       "      <td>0.0</td>\n",
       "      <td>0.0</td>\n",
       "    </tr>\n",
       "    <tr>\n",
       "      <th>162615</th>\n",
       "      <td>1.0</td>\n",
       "      <td>1.0</td>\n",
       "      <td>1.0</td>\n",
       "      <td>1.0</td>\n",
       "      <td>1.0</td>\n",
       "      <td>1.0</td>\n",
       "      <td>1.0</td>\n",
       "      <td>1.0</td>\n",
       "      <td>1.0</td>\n",
       "      <td>1.0</td>\n",
       "      <td>1.0</td>\n",
       "      <td>1.0</td>\n",
       "      <td>1.0</td>\n",
       "      <td>1.0</td>\n",
       "      <td>1.0</td>\n",
       "      <td>1.0</td>\n",
       "      <td>1.0</td>\n",
       "      <td>1.0</td>\n",
       "      <td>1.0</td>\n",
       "      <td>1.0</td>\n",
       "    </tr>\n",
       "    <tr>\n",
       "      <th>173716</th>\n",
       "      <td>0.8</td>\n",
       "      <td>0.9</td>\n",
       "      <td>1.0</td>\n",
       "      <td>0.8</td>\n",
       "      <td>1.0</td>\n",
       "      <td>0.8</td>\n",
       "      <td>0.8</td>\n",
       "      <td>1.0</td>\n",
       "      <td>0.8</td>\n",
       "      <td>0.9</td>\n",
       "      <td>1.0</td>\n",
       "      <td>0.9</td>\n",
       "      <td>0.8</td>\n",
       "      <td>0.8</td>\n",
       "      <td>0.8</td>\n",
       "      <td>0.8</td>\n",
       "      <td>1.0</td>\n",
       "      <td>0.8</td>\n",
       "      <td>0.6</td>\n",
       "      <td>1.0</td>\n",
       "    </tr>\n",
       "    <tr>\n",
       "      <th>189037</th>\n",
       "      <td>0.8</td>\n",
       "      <td>0.9</td>\n",
       "      <td>0.7</td>\n",
       "      <td>0.7</td>\n",
       "      <td>0.9</td>\n",
       "      <td>0.9</td>\n",
       "      <td>0.7</td>\n",
       "      <td>0.8</td>\n",
       "      <td>1.0</td>\n",
       "      <td>0.7</td>\n",
       "      <td>1.0</td>\n",
       "      <td>0.8</td>\n",
       "      <td>0.8</td>\n",
       "      <td>0.7</td>\n",
       "      <td>0.9</td>\n",
       "      <td>0.6</td>\n",
       "      <td>0.7</td>\n",
       "      <td>0.7</td>\n",
       "      <td>0.7</td>\n",
       "      <td>0.8</td>\n",
       "    </tr>\n",
       "    <tr>\n",
       "      <th>222150</th>\n",
       "      <td>0.8</td>\n",
       "      <td>1.0</td>\n",
       "      <td>1.0</td>\n",
       "      <td>0.0</td>\n",
       "      <td>0.9</td>\n",
       "      <td>0.0</td>\n",
       "      <td>0.8</td>\n",
       "      <td>1.0</td>\n",
       "      <td>0.8</td>\n",
       "      <td>0.9</td>\n",
       "      <td>1.0</td>\n",
       "      <td>0.8</td>\n",
       "      <td>0.4</td>\n",
       "      <td>0.4</td>\n",
       "      <td>0.7</td>\n",
       "      <td>0.8</td>\n",
       "      <td>0.5</td>\n",
       "      <td>0.0</td>\n",
       "      <td>0.0</td>\n",
       "      <td>0.0</td>\n",
       "    </tr>\n",
       "    <tr>\n",
       "      <th>252520</th>\n",
       "      <td>0.9</td>\n",
       "      <td>1.0</td>\n",
       "      <td>1.0</td>\n",
       "      <td>0.8</td>\n",
       "      <td>0.6</td>\n",
       "      <td>0.0</td>\n",
       "      <td>0.9</td>\n",
       "      <td>0.9</td>\n",
       "      <td>0.8</td>\n",
       "      <td>0.7</td>\n",
       "      <td>0.9</td>\n",
       "      <td>0.0</td>\n",
       "      <td>0.9</td>\n",
       "      <td>1.0</td>\n",
       "      <td>0.0</td>\n",
       "      <td>1.0</td>\n",
       "      <td>0.9</td>\n",
       "      <td>0.8</td>\n",
       "      <td>0.9</td>\n",
       "      <td>1.0</td>\n",
       "    </tr>\n",
       "    <tr>\n",
       "      <th>269633</th>\n",
       "      <td>0.0</td>\n",
       "      <td>0.0</td>\n",
       "      <td>0.0</td>\n",
       "      <td>0.0</td>\n",
       "      <td>0.0</td>\n",
       "      <td>0.0</td>\n",
       "      <td>0.0</td>\n",
       "      <td>0.0</td>\n",
       "      <td>0.0</td>\n",
       "      <td>0.0</td>\n",
       "      <td>0.0</td>\n",
       "      <td>0.0</td>\n",
       "      <td>0.0</td>\n",
       "      <td>0.0</td>\n",
       "      <td>0.0</td>\n",
       "      <td>0.0</td>\n",
       "      <td>0.0</td>\n",
       "      <td>0.0</td>\n",
       "      <td>0.0</td>\n",
       "      <td>0.0</td>\n",
       "    </tr>\n",
       "    <tr>\n",
       "      <th>281232</th>\n",
       "      <td>0.0</td>\n",
       "      <td>0.0</td>\n",
       "      <td>0.0</td>\n",
       "      <td>0.0</td>\n",
       "      <td>0.0</td>\n",
       "      <td>0.0</td>\n",
       "      <td>0.0</td>\n",
       "      <td>0.0</td>\n",
       "      <td>0.0</td>\n",
       "      <td>0.0</td>\n",
       "      <td>0.0</td>\n",
       "      <td>0.0</td>\n",
       "      <td>0.0</td>\n",
       "      <td>0.0</td>\n",
       "      <td>0.0</td>\n",
       "      <td>0.0</td>\n",
       "      <td>0.0</td>\n",
       "      <td>0.0</td>\n",
       "      <td>0.0</td>\n",
       "      <td>0.0</td>\n",
       "    </tr>\n",
       "    <tr>\n",
       "      <th>283786</th>\n",
       "      <td>0.9</td>\n",
       "      <td>1.0</td>\n",
       "      <td>0.9</td>\n",
       "      <td>0.8</td>\n",
       "      <td>0.7</td>\n",
       "      <td>0.5</td>\n",
       "      <td>0.9</td>\n",
       "      <td>0.9</td>\n",
       "      <td>0.7</td>\n",
       "      <td>0.8</td>\n",
       "      <td>0.9</td>\n",
       "      <td>0.8</td>\n",
       "      <td>0.8</td>\n",
       "      <td>0.9</td>\n",
       "      <td>0.9</td>\n",
       "      <td>0.9</td>\n",
       "      <td>0.8</td>\n",
       "      <td>0.8</td>\n",
       "      <td>0.8</td>\n",
       "      <td>0.9</td>\n",
       "    </tr>\n",
       "    <tr>\n",
       "      <th>297931</th>\n",
       "      <td>0.0</td>\n",
       "      <td>0.0</td>\n",
       "      <td>0.0</td>\n",
       "      <td>0.0</td>\n",
       "      <td>0.0</td>\n",
       "      <td>0.0</td>\n",
       "      <td>0.0</td>\n",
       "      <td>0.0</td>\n",
       "      <td>0.0</td>\n",
       "      <td>0.0</td>\n",
       "      <td>0.0</td>\n",
       "      <td>0.0</td>\n",
       "      <td>0.0</td>\n",
       "      <td>0.0</td>\n",
       "      <td>0.0</td>\n",
       "      <td>0.8</td>\n",
       "      <td>0.0</td>\n",
       "      <td>0.0</td>\n",
       "      <td>0.0</td>\n",
       "      <td>0.9</td>\n",
       "    </tr>\n",
       "    <tr>\n",
       "      <th>312302</th>\n",
       "      <td>0.9</td>\n",
       "      <td>1.0</td>\n",
       "      <td>0.9</td>\n",
       "      <td>0.9</td>\n",
       "      <td>0.9</td>\n",
       "      <td>0.8</td>\n",
       "      <td>0.8</td>\n",
       "      <td>1.0</td>\n",
       "      <td>0.7</td>\n",
       "      <td>0.8</td>\n",
       "      <td>1.0</td>\n",
       "      <td>0.9</td>\n",
       "      <td>0.7</td>\n",
       "      <td>0.9</td>\n",
       "      <td>0.9</td>\n",
       "      <td>0.8</td>\n",
       "      <td>0.8</td>\n",
       "      <td>1.0</td>\n",
       "      <td>0.9</td>\n",
       "      <td>0.8</td>\n",
       "    </tr>\n",
       "  </tbody>\n",
       "</table>\n",
       "</div>"
      ],
      "text/plain": [
       "anime_id  226    1535   1575   2001   2167   4224   5081   5114   6547   \\\n",
       "user_id                                                                   \n",
       "20807       1.0    1.0    1.0    1.0    0.8    1.0    0.9    1.0    1.0   \n",
       "50485       0.0    0.6    1.0    1.0    0.9    1.0    1.0    1.0    1.0   \n",
       "63900       0.7    0.0    0.0    0.0    0.0    0.0    0.0    0.9    0.0   \n",
       "68042       0.8    1.0    0.9    1.0    0.7    0.9    1.0    0.9    0.7   \n",
       "85472       0.7    0.0    0.0    1.0    0.9    0.9    0.0    0.0    1.0   \n",
       "92529       0.9    0.9    1.0    1.0    0.0    0.8    0.0    0.9    0.9   \n",
       "122341      0.2    0.3    0.2    0.7    0.4    0.3    0.3    0.8    0.5   \n",
       "131988      0.0    0.0    0.0    0.0    0.0    0.0    0.0    0.0    0.0   \n",
       "140590      0.3    0.6    0.5    0.8    0.6    0.8    0.8    0.9    0.5   \n",
       "147331      0.0    0.0    0.0    0.0    0.0    0.0    0.0    0.0    0.0   \n",
       "162615      1.0    1.0    1.0    1.0    1.0    1.0    1.0    1.0    1.0   \n",
       "173716      0.8    0.9    1.0    0.8    1.0    0.8    0.8    1.0    0.8   \n",
       "189037      0.8    0.9    0.7    0.7    0.9    0.9    0.7    0.8    1.0   \n",
       "222150      0.8    1.0    1.0    0.0    0.9    0.0    0.8    1.0    0.8   \n",
       "252520      0.9    1.0    1.0    0.8    0.6    0.0    0.9    0.9    0.8   \n",
       "269633      0.0    0.0    0.0    0.0    0.0    0.0    0.0    0.0    0.0   \n",
       "281232      0.0    0.0    0.0    0.0    0.0    0.0    0.0    0.0    0.0   \n",
       "283786      0.9    1.0    0.9    0.8    0.7    0.5    0.9    0.9    0.7   \n",
       "297931      0.0    0.0    0.0    0.0    0.0    0.0    0.0    0.0    0.0   \n",
       "312302      0.9    1.0    0.9    0.9    0.9    0.8    0.8    1.0    0.7   \n",
       "\n",
       "anime_id  6746   9253   9989   10620  11757  15809  16498  19815  20507  \\\n",
       "user_id                                                                   \n",
       "20807       1.0    1.0    0.9    1.0    1.0    0.8    1.0    1.0    1.0   \n",
       "50485       0.9    1.0    0.9    0.6    1.0    1.0    0.9    1.0    1.0   \n",
       "63900       0.0    0.0    0.8    0.0    0.0    0.0    0.8    0.0    0.8   \n",
       "68042       0.8    0.9    0.8    0.4    0.4    0.6    0.9    0.3    0.2   \n",
       "85472       0.0    0.8    0.0    0.8    0.9    0.8    0.8    0.7    0.7   \n",
       "92529       0.0    1.0    0.0    0.8    0.9    0.8    0.9    0.9    0.8   \n",
       "122341      0.6    0.7    0.3    0.2    0.1    0.3    0.1    0.4    0.4   \n",
       "131988      0.0    0.0    0.0    0.0    0.0    0.0    0.0    0.0    0.0   \n",
       "140590      0.8    0.9    0.7    0.3    0.4    0.6    0.5    0.7    0.7   \n",
       "147331      0.0    0.0    0.0    0.0    0.0    0.0    0.0    0.0    0.0   \n",
       "162615      1.0    1.0    1.0    1.0    1.0    1.0    1.0    1.0    1.0   \n",
       "173716      0.9    1.0    0.9    0.8    0.8    0.8    0.8    1.0    0.8   \n",
       "189037      0.7    1.0    0.8    0.8    0.7    0.9    0.6    0.7    0.7   \n",
       "222150      0.9    1.0    0.8    0.4    0.4    0.7    0.8    0.5    0.0   \n",
       "252520      0.7    0.9    0.0    0.9    1.0    0.0    1.0    0.9    0.8   \n",
       "269633      0.0    0.0    0.0    0.0    0.0    0.0    0.0    0.0    0.0   \n",
       "281232      0.0    0.0    0.0    0.0    0.0    0.0    0.0    0.0    0.0   \n",
       "283786      0.8    0.9    0.8    0.8    0.9    0.9    0.9    0.8    0.8   \n",
       "297931      0.0    0.0    0.0    0.0    0.0    0.0    0.8    0.0    0.0   \n",
       "312302      0.8    1.0    0.9    0.7    0.9    0.9    0.8    0.8    1.0   \n",
       "\n",
       "anime_id  22319  30276  \n",
       "user_id                 \n",
       "20807       1.0    1.0  \n",
       "50485       1.0    0.8  \n",
       "63900       0.8    0.8  \n",
       "68042       0.5    0.9  \n",
       "85472       0.7    0.9  \n",
       "92529       0.8    1.0  \n",
       "122341      0.2    0.6  \n",
       "131988      0.0    0.0  \n",
       "140590      0.5    0.7  \n",
       "147331      0.0    0.0  \n",
       "162615      1.0    1.0  \n",
       "173716      0.6    1.0  \n",
       "189037      0.7    0.8  \n",
       "222150      0.0    0.0  \n",
       "252520      0.9    1.0  \n",
       "269633      0.0    0.0  \n",
       "281232      0.0    0.0  \n",
       "283786      0.8    0.9  \n",
       "297931      0.0    0.9  \n",
       "312302      0.9    0.8  "
      ]
     },
     "execution_count": 6,
     "metadata": {},
     "output_type": "execute_result"
    }
   ],
   "source": [
    "g = rating_df.groupby('user_id')['rating'].count()\n",
    "top_users = g.dropna().sort_values(ascending=False)[:20]\n",
    "top_r = rating_df.join(top_users, rsuffix='_r', how='inner', on='user_id')\n",
    "\n",
    "g = rating_df.groupby('anime_id')['rating'].count()\n",
    "top_animes = g.dropna().sort_values(ascending=False)[:20]\n",
    "top_r = top_r.join(top_animes, rsuffix='_r', how='inner', on='anime_id')\n",
    "\n",
    "pd.crosstab(top_r.user_id, top_r.anime_id, top_r.rating, aggfunc=np.sum)"
   ]
  },
  {
   "cell_type": "markdown",
   "id": "material-treaty",
   "metadata": {
    "papermill": {
     "duration": 0.040186,
     "end_time": "2021-06-09T15:54:28.782171",
     "exception": false,
     "start_time": "2021-06-09T15:54:28.741985",
     "status": "completed"
    },
    "tags": []
   },
   "source": [
    "## **Data Preprocessing**"
   ]
  },
  {
   "cell_type": "code",
   "execution_count": 7,
   "id": "optional-colorado",
   "metadata": {
    "execution": {
     "iopub.execute_input": "2021-06-09T15:54:28.870011Z",
     "iopub.status.busy": "2021-06-09T15:54:28.869253Z",
     "iopub.status.idle": "2021-06-09T15:54:50.539383Z",
     "shell.execute_reply": "2021-06-09T15:54:50.540184Z",
     "shell.execute_reply.started": "2021-06-09T14:39:38.553358Z"
    },
    "papermill": {
     "duration": 21.718399,
     "end_time": "2021-06-09T15:54:50.540422",
     "exception": false,
     "start_time": "2021-06-09T15:54:28.822023",
     "status": "completed"
    },
    "tags": []
   },
   "outputs": [
    {
     "name": "stdout",
     "output_type": "stream",
     "text": [
      "Num of users: 91641, Num of animes: 17560\n",
      "Min rating: 0.0, Max rating: 1.0\n"
     ]
    }
   ],
   "source": [
    "# Encoding categorical data\n",
    "user_ids = rating_df[\"user_id\"].unique().tolist()\n",
    "user2user_encoded = {x: i for i, x in enumerate(user_ids)}\n",
    "user_encoded2user = {i: x for i, x in enumerate(user_ids)}\n",
    "rating_df[\"user\"] = rating_df[\"user_id\"].map(user2user_encoded)\n",
    "n_users = len(user2user_encoded)\n",
    "\n",
    "anime_ids = rating_df[\"anime_id\"].unique().tolist()\n",
    "anime2anime_encoded = {x: i for i, x in enumerate(anime_ids)}\n",
    "anime_encoded2anime = {i: x for i, x in enumerate(anime_ids)}\n",
    "rating_df[\"anime\"] = rating_df[\"anime_id\"].map(anime2anime_encoded)\n",
    "n_animes = len(anime2anime_encoded)\n",
    "\n",
    "print(\"Num of users: {}, Num of animes: {}\".format(n_users, n_animes))\n",
    "print(\"Min rating: {}, Max rating: {}\".format(min(rating_df['rating']), max(rating_df['rating'])))"
   ]
  },
  {
   "cell_type": "code",
   "execution_count": 8,
   "id": "accessible-conditions",
   "metadata": {
    "execution": {
     "iopub.execute_input": "2021-06-09T15:54:50.630327Z",
     "iopub.status.busy": "2021-06-09T15:54:50.629618Z",
     "iopub.status.idle": "2021-06-09T15:55:05.853170Z",
     "shell.execute_reply": "2021-06-09T15:55:05.852584Z",
     "shell.execute_reply.started": "2021-06-09T14:40:00.366466Z"
    },
    "papermill": {
     "duration": 15.271301,
     "end_time": "2021-06-09T15:55:05.853316",
     "exception": false,
     "start_time": "2021-06-09T15:54:50.582015",
     "status": "completed"
    },
    "tags": []
   },
   "outputs": [],
   "source": [
    "# Shuffle\n",
    "rating_df = rating_df.sample(frac=1, random_state=73)\n",
    "\n",
    "X = rating_df[['user', 'anime']].values\n",
    "y = rating_df[\"rating\"]"
   ]
  },
  {
   "cell_type": "code",
   "execution_count": 9,
   "id": "economic-chicken",
   "metadata": {
    "execution": {
     "iopub.execute_input": "2021-06-09T15:55:05.941068Z",
     "iopub.status.busy": "2021-06-09T15:55:05.940427Z",
     "iopub.status.idle": "2021-06-09T15:55:05.943382Z",
     "shell.execute_reply": "2021-06-09T15:55:05.943937Z",
     "shell.execute_reply.started": "2021-06-09T14:40:20.046340Z"
    },
    "papermill": {
     "duration": 0.050063,
     "end_time": "2021-06-09T15:55:05.944115",
     "exception": false,
     "start_time": "2021-06-09T15:55:05.894052",
     "status": "completed"
    },
    "tags": []
   },
   "outputs": [
    {
     "name": "stdout",
     "output_type": "stream",
     "text": [
      "> Train set ratings: 71408113\n",
      "> Test set ratings: 10000\n"
     ]
    }
   ],
   "source": [
    "# Split\n",
    "test_set_size = 10000 #10k for test set\n",
    "train_indices = rating_df.shape[0] - test_set_size \n",
    "\n",
    "X_train, X_test, y_train, y_test = (\n",
    "    X[:train_indices],\n",
    "    X[train_indices:],\n",
    "    y[:train_indices],\n",
    "    y[train_indices:],\n",
    ")\n",
    "\n",
    "print('> Train set ratings: {}'.format(len(y_train)))\n",
    "print('> Test set ratings: {}'.format(len(y_test)))"
   ]
  },
  {
   "cell_type": "code",
   "execution_count": 10,
   "id": "engaging-edwards",
   "metadata": {
    "execution": {
     "iopub.execute_input": "2021-06-09T15:55:06.027916Z",
     "iopub.status.busy": "2021-06-09T15:55:06.027325Z",
     "iopub.status.idle": "2021-06-09T15:55:06.031355Z",
     "shell.execute_reply": "2021-06-09T15:55:06.031884Z",
     "shell.execute_reply.started": "2021-06-09T14:40:20.057265Z"
    },
    "papermill": {
     "duration": 0.047489,
     "end_time": "2021-06-09T15:55:06.032075",
     "exception": false,
     "start_time": "2021-06-09T15:55:05.984586",
     "status": "completed"
    },
    "tags": []
   },
   "outputs": [],
   "source": [
    "X_train_array = [X_train[:, 0], X_train[:, 1]]\n",
    "X_test_array = [X_test[:, 0], X_test[:, 1]]"
   ]
  },
  {
   "cell_type": "code",
   "execution_count": 11,
   "id": "metric-rendering",
   "metadata": {
    "_kg_hide-input": false,
    "execution": {
     "iopub.execute_input": "2021-06-09T15:55:06.119566Z",
     "iopub.status.busy": "2021-06-09T15:55:06.118943Z",
     "iopub.status.idle": "2021-06-09T15:55:17.468923Z",
     "shell.execute_reply": "2021-06-09T15:55:17.468329Z",
     "shell.execute_reply.started": "2021-06-09T14:40:20.070181Z"
    },
    "papermill": {
     "duration": 11.396727,
     "end_time": "2021-06-09T15:55:17.469076",
     "exception": false,
     "start_time": "2021-06-09T15:55:06.072349",
     "status": "completed"
    },
    "tags": []
   },
   "outputs": [
    {
     "name": "stdout",
     "output_type": "stream",
     "text": [
      "2.4.1\n"
     ]
    }
   ],
   "source": [
    "# Accelerator check\n",
    "import tensorflow as tf\n",
    "\n",
    "TPU_INIT = True\n",
    "\n",
    "if TPU_INIT:\n",
    "    tpu = tf.distribute.cluster_resolver.TPUClusterResolver.connect()\n",
    "    tpu_strategy = tf.distribute.experimental.TPUStrategy(tpu)\n",
    "else:\n",
    "    !nvidia-smi\n",
    "    \n",
    "print(tf.__version__)"
   ]
  },
  {
   "cell_type": "markdown",
   "id": "political-tongue",
   "metadata": {
    "papermill": {
     "duration": 0.040353,
     "end_time": "2021-06-09T15:55:17.552849",
     "exception": false,
     "start_time": "2021-06-09T15:55:17.512496",
     "status": "completed"
    },
    "tags": []
   },
   "source": [
    "## **Model Building**"
   ]
  },
  {
   "cell_type": "code",
   "execution_count": 12,
   "id": "crazy-harris",
   "metadata": {
    "execution": {
     "iopub.execute_input": "2021-06-09T15:55:17.639559Z",
     "iopub.status.busy": "2021-06-09T15:55:17.638848Z",
     "iopub.status.idle": "2021-06-09T15:55:17.696407Z",
     "shell.execute_reply": "2021-06-09T15:55:17.695836Z",
     "shell.execute_reply.started": "2021-06-09T14:40:32.037425Z"
    },
    "papermill": {
     "duration": 0.102905,
     "end_time": "2021-06-09T15:55:17.696564",
     "exception": false,
     "start_time": "2021-06-09T15:55:17.593659",
     "status": "completed"
    },
    "tags": []
   },
   "outputs": [],
   "source": [
    "import keras\n",
    "from keras import layers \n",
    "import tensorflow as tf\n",
    "from keras.models import Model\n",
    "from keras.optimizers import Adam"
   ]
  },
  {
   "cell_type": "code",
   "execution_count": 13,
   "id": "piano-percentage",
   "metadata": {
    "execution": {
     "iopub.execute_input": "2021-06-09T15:55:17.789390Z",
     "iopub.status.busy": "2021-06-09T15:55:17.788743Z",
     "iopub.status.idle": "2021-06-09T15:55:18.409251Z",
     "shell.execute_reply": "2021-06-09T15:55:18.408702Z",
     "shell.execute_reply.started": "2021-06-09T14:40:32.108876Z"
    },
    "papermill": {
     "duration": 0.671788,
     "end_time": "2021-06-09T15:55:18.409414",
     "exception": false,
     "start_time": "2021-06-09T15:55:17.737626",
     "status": "completed"
    },
    "tags": []
   },
   "outputs": [
    {
     "name": "stdout",
     "output_type": "stream",
     "text": [
      "Model: \"model\"\n",
      "__________________________________________________________________________________________________\n",
      "Layer (type)                    Output Shape         Param #     Connected to                     \n",
      "==================================================================================================\n",
      "user (InputLayer)               [(None, 1)]          0                                            \n",
      "__________________________________________________________________________________________________\n",
      "anime (InputLayer)              [(None, 1)]          0                                            \n",
      "__________________________________________________________________________________________________\n",
      "user_embedding (Embedding)      (None, 1, 128)       11730048    user[0][0]                       \n",
      "__________________________________________________________________________________________________\n",
      "anime_embedding (Embedding)     (None, 1, 128)       2247680     anime[0][0]                      \n",
      "__________________________________________________________________________________________________\n",
      "dot_product (Dot)               (None, 1, 1)         0           user_embedding[0][0]             \n",
      "                                                                 anime_embedding[0][0]            \n",
      "__________________________________________________________________________________________________\n",
      "flatten (Flatten)               (None, 1)            0           dot_product[0][0]                \n",
      "__________________________________________________________________________________________________\n",
      "dense (Dense)                   (None, 1)            2           flatten[0][0]                    \n",
      "__________________________________________________________________________________________________\n",
      "batch_normalization (BatchNorma (None, 1)            4           dense[0][0]                      \n",
      "__________________________________________________________________________________________________\n",
      "activation (Activation)         (None, 1)            0           batch_normalization[0][0]        \n",
      "==================================================================================================\n",
      "Total params: 13,977,734\n",
      "Trainable params: 13,977,732\n",
      "Non-trainable params: 2\n",
      "__________________________________________________________________________________________________\n"
     ]
    }
   ],
   "source": [
    "# Embedding layers\n",
    "from keras.layers import Add, Activation, Lambda, BatchNormalization, Concatenate, Dropout, Input, Embedding, Dot, Reshape, Dense, Flatten\n",
    "\n",
    "def RecommenderNet():\n",
    "    embedding_size = 128\n",
    "    \n",
    "    user = Input(name = 'user', shape = [1])\n",
    "    user_embedding = Embedding(name = 'user_embedding',\n",
    "                       input_dim = n_users, \n",
    "                       output_dim = embedding_size)(user)\n",
    "    \n",
    "    anime = Input(name = 'anime', shape = [1])\n",
    "    anime_embedding = Embedding(name = 'anime_embedding',\n",
    "                       input_dim = n_animes, \n",
    "                       output_dim = embedding_size)(anime)\n",
    "    \n",
    "    #x = Concatenate()([user_embedding, anime_embedding])\n",
    "    x = Dot(name = 'dot_product', normalize = True, axes = 2)([user_embedding, anime_embedding])\n",
    "    x = Flatten()(x)\n",
    "        \n",
    "    x = Dense(1, kernel_initializer='he_normal')(x)\n",
    "    x = BatchNormalization()(x)\n",
    "    x = Activation(\"sigmoid\")(x)\n",
    "    \n",
    "    model = Model(inputs=[user, anime], outputs=x)\n",
    "    model.compile(loss='binary_crossentropy', metrics=[\"mae\", \"mse\"], optimizer='Adam')\n",
    "    \n",
    "    return model\n",
    "\n",
    "if TPU_INIT:    \n",
    "    with tpu_strategy.scope():\n",
    "        model = RecommenderNet()\n",
    "else:\n",
    "    model = RecommenderNet()\n",
    "\n",
    "model.summary()"
   ]
  },
  {
   "cell_type": "code",
   "execution_count": 14,
   "id": "conventional-pencil",
   "metadata": {
    "execution": {
     "iopub.execute_input": "2021-06-09T15:55:18.501117Z",
     "iopub.status.busy": "2021-06-09T15:55:18.499789Z",
     "iopub.status.idle": "2021-06-09T15:55:18.504688Z",
     "shell.execute_reply": "2021-06-09T15:55:18.504151Z",
     "shell.execute_reply.started": "2021-06-09T14:40:32.747310Z"
    },
    "papermill": {
     "duration": 0.05413,
     "end_time": "2021-06-09T15:55:18.504840",
     "exception": false,
     "start_time": "2021-06-09T15:55:18.450710",
     "status": "completed"
    },
    "tags": []
   },
   "outputs": [],
   "source": [
    "# Callbacks\n",
    "from tensorflow.keras.callbacks import Callback, ModelCheckpoint, LearningRateScheduler, TensorBoard, EarlyStopping, ReduceLROnPlateau\n",
    "\n",
    "start_lr = 0.00001\n",
    "min_lr = 0.00001\n",
    "max_lr = 0.00005\n",
    "batch_size = 10000\n",
    "\n",
    "if TPU_INIT:\n",
    "    max_lr = max_lr * tpu_strategy.num_replicas_in_sync\n",
    "    batch_size = batch_size * tpu_strategy.num_replicas_in_sync\n",
    "\n",
    "rampup_epochs = 5\n",
    "sustain_epochs = 0\n",
    "exp_decay = .8\n",
    "\n",
    "def lrfn(epoch):\n",
    "    if epoch < rampup_epochs:\n",
    "        return (max_lr - start_lr)/rampup_epochs * epoch + start_lr\n",
    "    elif epoch < rampup_epochs + sustain_epochs:\n",
    "        return max_lr\n",
    "    else:\n",
    "        return (max_lr - min_lr) * exp_decay**(epoch-rampup_epochs-sustain_epochs) + min_lr\n",
    "\n",
    "\n",
    "lr_callback = LearningRateScheduler(lambda epoch: lrfn(epoch), verbose=0)\n",
    "\n",
    "checkpoint_filepath = './weights.h5'\n",
    "\n",
    "model_checkpoints = ModelCheckpoint(filepath=checkpoint_filepath,\n",
    "                                        save_weights_only=True,\n",
    "                                        monitor='val_loss',\n",
    "                                        mode='min',\n",
    "                                        save_best_only=True)\n",
    "\n",
    "early_stopping = EarlyStopping(patience = 3, monitor='val_loss', \n",
    "                               mode='min', restore_best_weights=True)\n",
    "\n",
    "my_callbacks = [\n",
    "    model_checkpoints,\n",
    "    lr_callback,\n",
    "    early_stopping,   \n",
    "]"
   ]
  },
  {
   "cell_type": "code",
   "execution_count": 15,
   "id": "passing-italy",
   "metadata": {
    "execution": {
     "iopub.execute_input": "2021-06-09T15:55:18.593486Z",
     "iopub.status.busy": "2021-06-09T15:55:18.592621Z",
     "iopub.status.idle": "2021-06-09T16:00:11.172624Z",
     "shell.execute_reply": "2021-06-09T16:00:11.172063Z",
     "shell.execute_reply.started": "2021-06-09T14:40:32.757953Z"
    },
    "papermill": {
     "duration": 292.626894,
     "end_time": "2021-06-09T16:00:11.172789",
     "exception": false,
     "start_time": "2021-06-09T15:55:18.545895",
     "status": "completed"
    },
    "tags": []
   },
   "outputs": [
    {
     "name": "stdout",
     "output_type": "stream",
     "text": [
      "Epoch 1/20\n",
      "893/893 [==============================] - 35s 28ms/step - loss: 0.7932 - mae: 0.3830 - mse: 0.1968 - val_loss: 0.7886 - val_mae: 0.3841 - val_mse: 0.1967\n",
      "Epoch 2/20\n",
      "893/893 [==============================] - 20s 23ms/step - loss: 0.7812 - mae: 0.3795 - mse: 0.1921 - val_loss: 0.7133 - val_mae: 0.3510 - val_mse: 0.1653\n",
      "Epoch 3/20\n",
      "893/893 [==============================] - 20s 23ms/step - loss: 0.6329 - mae: 0.3048 - mse: 0.1287 - val_loss: 0.5740 - val_mae: 0.2714 - val_mse: 0.1048\n",
      "Epoch 4/20\n",
      "893/893 [==============================] - 20s 23ms/step - loss: 0.5550 - mae: 0.2575 - mse: 0.0949 - val_loss: 0.5399 - val_mae: 0.2496 - val_mse: 0.0906\n",
      "Epoch 5/20\n",
      "893/893 [==============================] - 20s 23ms/step - loss: 0.5231 - mae: 0.2346 - mse: 0.0822 - val_loss: 0.5135 - val_mae: 0.2276 - val_mse: 0.0805\n",
      "Epoch 6/20\n",
      "893/893 [==============================] - 20s 22ms/step - loss: 0.4963 - mae: 0.2124 - mse: 0.0725 - val_loss: 0.4967 - val_mae: 0.2111 - val_mse: 0.0750\n",
      "Epoch 7/20\n",
      "893/893 [==============================] - 20s 23ms/step - loss: 0.4740 - mae: 0.1930 - mse: 0.0646 - val_loss: 0.4897 - val_mae: 0.2024 - val_mse: 0.0729\n",
      "Epoch 8/20\n",
      "893/893 [==============================] - 20s 23ms/step - loss: 0.4591 - mae: 0.1804 - mse: 0.0594 - val_loss: 0.4868 - val_mae: 0.1971 - val_mse: 0.0721\n",
      "Epoch 9/20\n",
      "893/893 [==============================] - 20s 23ms/step - loss: 0.4492 - mae: 0.1718 - mse: 0.0560 - val_loss: 0.4850 - val_mae: 0.1937 - val_mse: 0.0716\n",
      "Epoch 10/20\n",
      "893/893 [==============================] - 20s 23ms/step - loss: 0.4422 - mae: 0.1657 - mse: 0.0537 - val_loss: 0.4849 - val_mae: 0.1914 - val_mse: 0.0716\n",
      "Epoch 11/20\n",
      "893/893 [==============================] - 21s 23ms/step - loss: 0.4373 - mae: 0.1613 - mse: 0.0520 - val_loss: 0.4858 - val_mae: 0.1901 - val_mse: 0.0719\n",
      "Epoch 12/20\n",
      "893/893 [==============================] - 20s 23ms/step - loss: 0.4337 - mae: 0.1580 - mse: 0.0508 - val_loss: 0.4863 - val_mae: 0.1890 - val_mse: 0.0721\n",
      "Epoch 13/20\n",
      "893/893 [==============================] - 20s 22ms/step - loss: 0.4308 - mae: 0.1555 - mse: 0.0499 - val_loss: 0.4871 - val_mae: 0.1883 - val_mse: 0.0723\n"
     ]
    }
   ],
   "source": [
    "# Model training\n",
    "history = model.fit(\n",
    "    x=X_train_array,\n",
    "    y=y_train,\n",
    "    batch_size=batch_size,\n",
    "    epochs=20,\n",
    "    verbose=1,\n",
    "    validation_data=(X_test_array, y_test),\n",
    "    callbacks=my_callbacks\n",
    ")\n",
    "\n",
    "model.load_weights(checkpoint_filepath)"
   ]
  },
  {
   "cell_type": "code",
   "execution_count": 16,
   "id": "bright-sheet",
   "metadata": {
    "execution": {
     "iopub.execute_input": "2021-06-09T16:00:13.650984Z",
     "iopub.status.busy": "2021-06-09T16:00:13.650237Z",
     "iopub.status.idle": "2021-06-09T16:00:13.890068Z",
     "shell.execute_reply": "2021-06-09T16:00:13.889557Z",
     "shell.execute_reply.started": "2021-06-09T14:45:09.917971Z"
    },
    "papermill": {
     "duration": 1.483063,
     "end_time": "2021-06-09T16:00:13.890206",
     "exception": false,
     "start_time": "2021-06-09T16:00:12.407143",
     "status": "completed"
    },
    "tags": []
   },
   "outputs": [
    {
     "data": {
      "image/png": "[encoded data removed]",
      "text/plain": [
       "<Figure size 432x288 with 1 Axes>"
      ]
     },
     "metadata": {
      "needs_background": "light"
     },
     "output_type": "display_data"
    }
   ],
   "source": [
    "#Training results\n",
    "import matplotlib.pyplot as plt\n",
    "%matplotlib inline\n",
    "\n",
    "plt.plot(history.history[\"loss\"][0:-2])\n",
    "plt.plot(history.history[\"val_loss\"][0:-2])\n",
    "plt.title(\"model loss\")\n",
    "plt.ylabel(\"loss\")\n",
    "plt.xlabel(\"epoch\")\n",
    "plt.legend([\"train\", \"test\"], loc=\"upper left\")\n",
    "plt.show()"
   ]
  },
  {
   "cell_type": "markdown",
   "id": "entitled-worry",
   "metadata": {
    "papermill": {
     "duration": 1.275167,
     "end_time": "2021-06-09T16:00:16.408201",
     "exception": false,
     "start_time": "2021-06-09T16:00:15.133034",
     "status": "completed"
    },
    "tags": []
   },
   "source": [
    "## **Extracting weights from model**"
   ]
  },
  {
   "cell_type": "code",
   "execution_count": 17,
   "id": "fifth-quick",
   "metadata": {
    "execution": {
     "iopub.execute_input": "2021-06-09T16:00:18.865755Z",
     "iopub.status.busy": "2021-06-09T16:00:18.865092Z",
     "iopub.status.idle": "2021-06-09T16:00:19.089679Z",
     "shell.execute_reply": "2021-06-09T16:00:19.088987Z",
     "shell.execute_reply.started": "2021-06-09T14:45:10.167395Z"
    },
    "papermill": {
     "duration": 1.455975,
     "end_time": "2021-06-09T16:00:19.089832",
     "exception": false,
     "start_time": "2021-06-09T16:00:17.633857",
     "status": "completed"
    },
    "tags": []
   },
   "outputs": [],
   "source": [
    "def extract_weights(name, model):\n",
    "    weight_layer = model.get_layer(name)\n",
    "    weights = weight_layer.get_weights()[0]\n",
    "    weights = weights / np.linalg.norm(weights, axis = 1).reshape((-1, 1))\n",
    "    return weights\n",
    "\n",
    "anime_weights = extract_weights('anime_embedding', model)\n",
    "user_weights = extract_weights('user_embedding', model)"
   ]
  },
  {
   "cell_type": "markdown",
   "id": "connected-floor",
   "metadata": {
    "papermill": {
     "duration": 1.232302,
     "end_time": "2021-06-09T16:00:21.549739",
     "exception": false,
     "start_time": "2021-06-09T16:00:20.317437",
     "status": "completed"
    },
    "tags": []
   },
   "source": [
    "### **anime meta data**"
   ]
  },
  {
   "cell_type": "code",
   "execution_count": 18,
   "id": "dated-island",
   "metadata": {
    "execution": {
     "iopub.execute_input": "2021-06-09T16:00:24.116299Z",
     "iopub.status.busy": "2021-06-09T16:00:24.115305Z",
     "iopub.status.idle": "2021-06-09T16:00:24.523529Z",
     "shell.execute_reply": "2021-06-09T16:00:24.522278Z",
     "shell.execute_reply.started": "2021-06-09T14:45:10.392288Z"
    },
    "papermill": {
     "duration": 1.712807,
     "end_time": "2021-06-09T16:00:24.523680",
     "exception": false,
     "start_time": "2021-06-09T16:00:22.810873",
     "status": "completed"
    },
    "tags": []
   },
   "outputs": [],
   "source": [
    "df = pd.read_csv(INPUT_DIR + '/anime.csv', low_memory=True)\n",
    "df = df.replace(\"Unknown\", np.nan)"
   ]
  },
  {
   "cell_type": "code",
   "execution_count": 19,
   "id": "partial-miracle",
   "metadata": {
    "execution": {
     "iopub.execute_input": "2021-06-09T16:00:26.986239Z",
     "iopub.status.busy": "2021-06-09T16:00:26.982574Z",
     "iopub.status.idle": "2021-06-09T16:00:49.552327Z",
     "shell.execute_reply": "2021-06-09T16:00:49.551712Z",
     "shell.execute_reply.started": "2021-06-09T14:45:10.754154Z"
    },
    "papermill": {
     "duration": 23.803164,
     "end_time": "2021-06-09T16:00:49.552482",
     "exception": false,
     "start_time": "2021-06-09T16:00:25.749318",
     "status": "completed"
    },
    "tags": []
   },
   "outputs": [],
   "source": [
    "# Fixing Names\n",
    "def getAnimeName(anime_id):\n",
    "    try:\n",
    "        name = df[df.anime_id == anime_id].eng_version.values[0]\n",
    "        if name is np.nan:\n",
    "            name = df[df.anime_id == anime_id].Name.values[0]\n",
    "    except:\n",
    "        print('error')\n",
    "    \n",
    "    return name\n",
    "\n",
    "df['anime_id'] = df['MAL_ID']\n",
    "df[\"eng_version\"] = df['English name']\n",
    "df['eng_version'] = df.anime_id.apply(lambda x: getAnimeName(x))\n",
    "\n",
    "df.sort_values(by=['Score'], \n",
    "               inplace=True,\n",
    "               ascending=False, \n",
    "               kind='quicksort',\n",
    "               na_position='last')\n",
    "\n",
    "df = df[[\"anime_id\", \"eng_version\", \n",
    "         \"Score\", \"Genders\", \"Episodes\", \n",
    "         \"Type\", \"Premiered\", \"Members\"]]"
   ]
  },
  {
   "cell_type": "code",
   "execution_count": 20,
   "id": "pressing-rocket",
   "metadata": {
    "execution": {
     "iopub.execute_input": "2021-06-09T16:00:52.003068Z",
     "iopub.status.busy": "2021-06-09T16:00:52.002404Z",
     "iopub.status.idle": "2021-06-09T16:00:52.004303Z",
     "shell.execute_reply": "2021-06-09T16:00:52.004766Z",
     "shell.execute_reply.started": "2021-06-09T14:45:34.744979Z"
    },
    "papermill": {
     "duration": 1.234116,
     "end_time": "2021-06-09T16:00:52.004956",
     "exception": false,
     "start_time": "2021-06-09T16:00:50.770840",
     "status": "completed"
    },
    "tags": []
   },
   "outputs": [],
   "source": [
    "def getAnimeFrame(anime):\n",
    "    if isinstance(anime, int):\n",
    "        return df[df.anime_id == anime]\n",
    "    if isinstance(anime, str):\n",
    "        return df[df.eng_version == anime]"
   ]
  },
  {
   "cell_type": "markdown",
   "id": "elect-worth",
   "metadata": {
    "papermill": {
     "duration": 1.222784,
     "end_time": "2021-06-09T16:00:54.448219",
     "exception": false,
     "start_time": "2021-06-09T16:00:53.225435",
     "status": "completed"
    },
    "tags": []
   },
   "source": [
    "### **sypnopsis data**"
   ]
  },
  {
   "cell_type": "code",
   "execution_count": 21,
   "id": "fewer-following",
   "metadata": {
    "execution": {
     "iopub.execute_input": "2021-06-09T16:00:57.035871Z",
     "iopub.status.busy": "2021-06-09T16:00:57.035159Z",
     "iopub.status.idle": "2021-06-09T16:00:57.321163Z",
     "shell.execute_reply": "2021-06-09T16:00:57.320454Z",
     "shell.execute_reply.started": "2021-06-09T14:45:34.750560Z"
    },
    "papermill": {
     "duration": 1.582061,
     "end_time": "2021-06-09T16:00:57.321306",
     "exception": false,
     "start_time": "2021-06-09T16:00:55.739245",
     "status": "completed"
    },
    "tags": []
   },
   "outputs": [],
   "source": [
    "cols = [\"MAL_ID\", \"Name\", \"Genders\", \"sypnopsis\"]\n",
    "sypnopsis_df = pd.read_csv(INPUT_DIR + '/anime_with_synopsis.csv', usecols=cols)\n",
    "\n",
    "def getSypnopsis(anime):\n",
    "    if isinstance(anime, int):\n",
    "        return sypnopsis_df[sypnopsis_df.MAL_ID == anime].sypnopsis.values[0]\n",
    "    if isinstance(anime, str):\n",
    "        return sypnopsis_df[sypnopsis_df.Name == anime].sypnopsis.values[0]"
   ]
  },
  {
   "cell_type": "markdown",
   "id": "uniform-mentor",
   "metadata": {
    "papermill": {
     "duration": 1.230795,
     "end_time": "2021-06-09T16:00:59.781687",
     "exception": false,
     "start_time": "2021-06-09T16:00:58.550892",
     "status": "completed"
    },
    "tags": []
   },
   "source": [
    "## **Task 1**: Finding Similar Animes (Item Based Recommendation)"
   ]
  },
  {
   "cell_type": "code",
   "execution_count": 22,
   "id": "unusual-convergence",
   "metadata": {
    "execution": {
     "iopub.execute_input": "2021-06-09T16:01:02.235496Z",
     "iopub.status.busy": "2021-06-09T16:01:02.234749Z",
     "iopub.status.idle": "2021-06-09T16:01:02.246873Z",
     "shell.execute_reply": "2021-06-09T16:01:02.247348Z",
     "shell.execute_reply.started": "2021-06-09T14:45:34.993540Z"
    },
    "papermill": {
     "duration": 1.238817,
     "end_time": "2021-06-09T16:01:02.247552",
     "exception": false,
     "start_time": "2021-06-09T16:01:01.008735",
     "status": "completed"
    },
    "tags": []
   },
   "outputs": [],
   "source": [
    "#pd.reset_option('all')\n",
    "pd.set_option(\"max_colwidth\", None)\n",
    "\n",
    "def find_similar_animes(name, n=10, return_dist=False, neg=False):\n",
    "    try:\n",
    "        index = getAnimeFrame(name).anime_id.values[0]\n",
    "        encoded_index = anime2anime_encoded.get(index)\n",
    "        weights = anime_weights\n",
    "        \n",
    "        dists = np.dot(weights, weights[encoded_index])\n",
    "        sorted_dists = np.argsort(dists)\n",
    "        \n",
    "        n = n + 1            \n",
    "        \n",
    "        if neg:\n",
    "            closest = sorted_dists[:n]\n",
    "        else:\n",
    "            closest = sorted_dists[-n:]\n",
    "\n",
    "        print('animes closest to {}'.format(name))\n",
    "\n",
    "        if return_dist:\n",
    "            return dists, closest\n",
    "        \n",
    "        rindex = df\n",
    "\n",
    "        SimilarityArr = []\n",
    "\n",
    "        for close in closest:\n",
    "            decoded_id = anime_encoded2anime.get(close)\n",
    "            sypnopsis = getSypnopsis(decoded_id)\n",
    "            anime_frame = getAnimeFrame(decoded_id)\n",
    "            \n",
    "            anime_name = anime_frame.eng_version.values[0]\n",
    "            genre = anime_frame.Genders.values[0]\n",
    "            similarity = dists[close]\n",
    "            SimilarityArr.append({\"anime_id\": decoded_id, \"name\": anime_name,\n",
    "                                  \"similarity\": similarity,\"genre\": genre,\n",
    "                                  'sypnopsis': sypnopsis})\n",
    "\n",
    "        Frame = pd.DataFrame(SimilarityArr).sort_values(by=\"similarity\", ascending=False)\n",
    "        return Frame[Frame.anime_id != index].drop(['anime_id'], axis=1)\n",
    "\n",
    "    except:\n",
    "        print('{}!, Not Found in Anime list'.format(name))"
   ]
  },
  {
   "cell_type": "markdown",
   "id": "sophisticated-hampton",
   "metadata": {
    "papermill": {
     "duration": 1.220362,
     "end_time": "2021-06-09T16:01:04.732527",
     "exception": false,
     "start_time": "2021-06-09T16:01:03.512165",
     "status": "completed"
    },
    "tags": []
   },
   "source": [
    "### **these animes are my fav**"
   ]
  },
  {
   "cell_type": "code",
   "execution_count": 23,
   "id": "governing-harvey",
   "metadata": {
    "execution": {
     "iopub.execute_input": "2021-06-09T16:01:09.651738Z",
     "iopub.status.busy": "2021-06-09T16:01:09.651079Z",
     "iopub.status.idle": "2021-06-09T16:01:09.705886Z",
     "shell.execute_reply": "2021-06-09T16:01:09.706873Z",
     "shell.execute_reply.started": "2021-06-09T14:45:35.006004Z"
    },
    "papermill": {
     "duration": 1.282364,
     "end_time": "2021-06-09T16:01:09.707147",
     "exception": false,
     "start_time": "2021-06-09T16:01:08.424783",
     "status": "completed"
    },
    "tags": []
   },
   "outputs": [
    {
     "name": "stdout",
     "output_type": "stream",
     "text": [
      "animes closest to Dragon Ball Z\n"
     ]
    },
    {
     "data": {
      "text/html": [
       "<div>\n",
       "<style scoped>\n",
       "    .dataframe tbody tr th:only-of-type {\n",
       "        vertical-align: middle;\n",
       "    }\n",
       "\n",
       "    .dataframe tbody tr th {\n",
       "        vertical-align: top;\n",
       "    }\n",
       "\n",
       "    .dataframe thead th {\n",
       "        text-align: right;\n",
       "    }\n",
       "</style>\n",
       "<table border=\"1\" class=\"dataframe\">\n",
       "  <thead>\n",
       "    <tr style=\"text-align: right;\">\n",
       "      <th></th>\n",
       "      <th>name</th>\n",
       "      <th>similarity</th>\n",
       "      <th>genre</th>\n",
       "      <th>sypnopsis</th>\n",
       "    </tr>\n",
       "  </thead>\n",
       "  <tbody>\n",
       "    <tr>\n",
       "      <th>4</th>\n",
       "      <td>Dragon Ball</td>\n",
       "      <td>0.974880</td>\n",
       "      <td>Adventure, Comedy, Fantasy, Martial Arts, Shounen, Super Power</td>\n",
       "      <td>Gokuu Son is a young boy who lives in the woods all alone—that is, until a girl named Bulma runs into him in her search for a set of magical objects called the \"Dragon Balls.\" Since the artifacts are said to grant one wish to whoever collects all seven, Bulma hopes to gather them and wish for a perfect boyfriend. Gokuu happens to be in possession of a dragon ball, but unfortunately for Bulma, he refuses to part ways with it, so she makes him a deal: he can tag along on her journey if he lets her borrow the dragon ball's power. With that, the two set off on the journey of a lifetime. They don't go on the journey alone. On the way, they meet the old Muten-Roshi and wannabe disciple Kuririn, with whom Gokuu trains to become a stronger martial artist for the upcoming World Martial Arts Tournament. However, it's not all fun and games; the ability to make any wish come true is a powerful one, and there are others who would do much worse than just wishing for a boyfriend. To stop those who would try to abuse the legendary power, they train to become stronger fighters, using their newfound strength to help the people around them along the way.</td>\n",
       "    </tr>\n",
       "    <tr>\n",
       "      <th>3</th>\n",
       "      <td>Dragon Ball GT</td>\n",
       "      <td>0.916844</td>\n",
       "      <td>Action, Sci-Fi, Adventure, Comedy, Super Power, Magic, Fantasy, Shounen</td>\n",
       "      <td>Emperor Pilaf finally has his hands on the Black Star Dragon Balls after years of searching, which are said to be twice as powerful as Earth's normal ones. Pilaf is about to make his wish for world domination when he is interrupted by Gokuu Son. As a result, Pilaf flubs his wish and accidentally turns Gokuu back into a child. After the wish is granted, the Black Star Dragon Balls scatter across the galaxy. However, Gokuu discovers that they will cause the Earth to explode unless they are all brought back within a year. Uniting with his granddaughter Pan and a young adult Trunks, Gokuu sets off on an adventure through the universe to find the Black Star Dragon Balls and save his planet from destruction.</td>\n",
       "    </tr>\n",
       "    <tr>\n",
       "      <th>2</th>\n",
       "      <td>Dragon Ball Z Kai</td>\n",
       "      <td>0.789623</td>\n",
       "      <td>Action, Adventure, Comedy, Fantasy, Martial Arts, Shounen, Super Power</td>\n",
       "      <td>Five years after the events of Dragon Ball, martial arts expert Gokuu is now a grown man married to his wife Chi-Chi, with a four-year old son named Gohan. While attending a reunion on Turtle Island with his old friends Master Roshi, Krillin, Bulma and others, the festivities are interrupted when a humanoid alien named Raditz not only reveals the truth behind Gokuu's past, but kidnaps Gohan as well. With Raditz displaying power beyond anything Gokuu has seen before, he is forced to team up with his old nemesis, Piccolo, in order to rescue his son. But when Gokuu and Piccolo reveal the secret of the seven mystical wish-granting Dragon Balls to Raditz, he informs the duo that there is more of his race, the Saiyans, and they won’t pass up an opportunity to seize the power of the Dragon Balls for themselves. These events begin the saga of Dragon Ball Kai , a story that finds Gokuu and his friends and family constantly defending the galaxy from increasingly more powerful threats. Bizarre, comical, heartwarming and threatening characters come together in a series of battles that push the powers and abilities of Gokuu and his friends beyond anything they have ever experienced.</td>\n",
       "    </tr>\n",
       "    <tr>\n",
       "      <th>1</th>\n",
       "      <td>Dragon Ball Z Special 1:Bardock, The Father of Goku</td>\n",
       "      <td>0.720888</td>\n",
       "      <td>Adventure, Comedy, Fantasy, Sci-Fi, Shounen</td>\n",
       "      <td>Bardock, Son Goku's father, is a low-ranking Saiyan soldier who was given the power to see into the future by the last remaining alien on a planet he just destroyed. He witnesses the destruction of his race and must now do his best to stop Frieza's impending massacre. (Source: ANN)</td>\n",
       "    </tr>\n",
       "    <tr>\n",
       "      <th>0</th>\n",
       "      <td>Naruto</td>\n",
       "      <td>0.720263</td>\n",
       "      <td>Action, Adventure, Comedy, Super Power, Martial Arts, Shounen</td>\n",
       "      <td>oments prior to Naruto Uzumaki's birth, a huge demon known as the Kyuubi, the Nine-Tailed Fox, attacked Konohagakure, the Hidden Leaf Village, and wreaked havoc. In order to put an end to the Kyuubi's rampage, the leader of the village, the Fourth Hokage, sacrificed his life and sealed the monstrous beast inside the newborn Naruto. Now, Naruto is a hyperactive and knuckle-headed ninja still living in Konohagakure. Shunned because of the Kyuubi inside him, Naruto struggles to find his place in the village, while his burning desire to become the Hokage of Konohagakure leads him not only to some great new friends, but also some deadly foes.</td>\n",
       "    </tr>\n",
       "  </tbody>\n",
       "</table>\n",
       "</div>"
      ],
      "text/plain": [
       "                                                  name  similarity  \\\n",
       "4                                          Dragon Ball    0.974880   \n",
       "3                                       Dragon Ball GT    0.916844   \n",
       "2                                    Dragon Ball Z Kai    0.789623   \n",
       "1  Dragon Ball Z Special 1:Bardock, The Father of Goku    0.720888   \n",
       "0                                               Naruto    0.720263   \n",
       "\n",
       "                                                                     genre  \\\n",
       "4           Adventure, Comedy, Fantasy, Martial Arts, Shounen, Super Power   \n",
       "3  Action, Sci-Fi, Adventure, Comedy, Super Power, Magic, Fantasy, Shounen   \n",
       "2   Action, Adventure, Comedy, Fantasy, Martial Arts, Shounen, Super Power   \n",
       "1                              Adventure, Comedy, Fantasy, Sci-Fi, Shounen   \n",
       "0            Action, Adventure, Comedy, Super Power, Martial Arts, Shounen   \n",
       "\n",
       "                                                                                                                                                                                                                                                                                                                                                                                                                                                                                                                                                                                                                                                                                                                                                                                                                                                                                                                                                                                                                                                                                                                                                                                                                              sypnopsis  \n",
       "4                                     Gokuu Son is a young boy who lives in the woods all alone—that is, until a girl named Bulma runs into him in her search for a set of magical objects called the \"Dragon Balls.\" Since the artifacts are said to grant one wish to whoever collects all seven, Bulma hopes to gather them and wish for a perfect boyfriend. Gokuu happens to be in possession of a dragon ball, but unfortunately for Bulma, he refuses to part ways with it, so she makes him a deal: he can tag along on her journey if he lets her borrow the dragon ball's power. With that, the two set off on the journey of a lifetime. They don't go on the journey alone. On the way, they meet the old Muten-Roshi and wannabe disciple Kuririn, with whom Gokuu trains to become a stronger martial artist for the upcoming World Martial Arts Tournament. However, it's not all fun and games; the ability to make any wish come true is a powerful one, and there are others who would do much worse than just wishing for a boyfriend. To stop those who would try to abuse the legendary power, they train to become stronger fighters, using their newfound strength to help the people around them along the way.  \n",
       "3                                                                                                                                                                                                                                                                                                                                                                                                                                                                                               Emperor Pilaf finally has his hands on the Black Star Dragon Balls after years of searching, which are said to be twice as powerful as Earth's normal ones. Pilaf is about to make his wish for world domination when he is interrupted by Gokuu Son. As a result, Pilaf flubs his wish and accidentally turns Gokuu back into a child. After the wish is granted, the Black Star Dragon Balls scatter across the galaxy. However, Gokuu discovers that they will cause the Earth to explode unless they are all brought back within a year. Uniting with his granddaughter Pan and a young adult Trunks, Gokuu sets off on an adventure through the universe to find the Black Star Dragon Balls and save his planet from destruction.  \n",
       "2  Five years after the events of Dragon Ball, martial arts expert Gokuu is now a grown man married to his wife Chi-Chi, with a four-year old son named Gohan. While attending a reunion on Turtle Island with his old friends Master Roshi, Krillin, Bulma and others, the festivities are interrupted when a humanoid alien named Raditz not only reveals the truth behind Gokuu's past, but kidnaps Gohan as well. With Raditz displaying power beyond anything Gokuu has seen before, he is forced to team up with his old nemesis, Piccolo, in order to rescue his son. But when Gokuu and Piccolo reveal the secret of the seven mystical wish-granting Dragon Balls to Raditz, he informs the duo that there is more of his race, the Saiyans, and they won’t pass up an opportunity to seize the power of the Dragon Balls for themselves. These events begin the saga of Dragon Ball Kai , a story that finds Gokuu and his friends and family constantly defending the galaxy from increasingly more powerful threats. Bizarre, comical, heartwarming and threatening characters come together in a series of battles that push the powers and abilities of Gokuu and his friends beyond anything they have ever experienced.  \n",
       "1                                                                                                                                                                                                                                                                                                                                                                                                                                                                                                                                                                                                                                                                                                                                                                                                                                                                                                                                            Bardock, Son Goku's father, is a low-ranking Saiyan soldier who was given the power to see into the future by the last remaining alien on a planet he just destroyed. He witnesses the destruction of his race and must now do his best to stop Frieza's impending massacre. (Source: ANN)  \n",
       "0                                                                                                                                                                                                                                                                                                                                                                                                                                                                                                                                                                 oments prior to Naruto Uzumaki's birth, a huge demon known as the Kyuubi, the Nine-Tailed Fox, attacked Konohagakure, the Hidden Leaf Village, and wreaked havoc. In order to put an end to the Kyuubi's rampage, the leader of the village, the Fourth Hokage, sacrificed his life and sealed the monstrous beast inside the newborn Naruto. Now, Naruto is a hyperactive and knuckle-headed ninja still living in Konohagakure. Shunned because of the Kyuubi inside him, Naruto struggles to find his place in the village, while his burning desire to become the Hokage of Konohagakure leads him not only to some great new friends, but also some deadly foes.  "
      ]
     },
     "execution_count": 23,
     "metadata": {},
     "output_type": "execute_result"
    }
   ],
   "source": [
    "find_similar_animes('Dragon Ball Z', n=5, neg=False)"
   ]
  },
  {
   "cell_type": "code",
   "execution_count": 24,
   "id": "complete-williams",
   "metadata": {
    "execution": {
     "iopub.execute_input": "2021-06-09T16:01:14.704876Z",
     "iopub.status.busy": "2021-06-09T16:01:14.703788Z",
     "iopub.status.idle": "2021-06-09T16:01:14.743374Z",
     "shell.execute_reply": "2021-06-09T16:01:14.744375Z",
     "shell.execute_reply.started": "2021-06-09T14:45:35.082565Z"
    },
    "papermill": {
     "duration": 1.272733,
     "end_time": "2021-06-09T16:01:14.744640",
     "exception": false,
     "start_time": "2021-06-09T16:01:13.471907",
     "status": "completed"
    },
    "tags": []
   },
   "outputs": [
    {
     "name": "stdout",
     "output_type": "stream",
     "text": [
      "animes closest to Your Name.\n"
     ]
    },
    {
     "data": {
      "text/html": [
       "<div>\n",
       "<style scoped>\n",
       "    .dataframe tbody tr th:only-of-type {\n",
       "        vertical-align: middle;\n",
       "    }\n",
       "\n",
       "    .dataframe tbody tr th {\n",
       "        vertical-align: top;\n",
       "    }\n",
       "\n",
       "    .dataframe thead th {\n",
       "        text-align: right;\n",
       "    }\n",
       "</style>\n",
       "<table border=\"1\" class=\"dataframe\">\n",
       "  <thead>\n",
       "    <tr style=\"text-align: right;\">\n",
       "      <th></th>\n",
       "      <th>name</th>\n",
       "      <th>similarity</th>\n",
       "      <th>genre</th>\n",
       "      <th>sypnopsis</th>\n",
       "    </tr>\n",
       "  </thead>\n",
       "  <tbody>\n",
       "    <tr>\n",
       "      <th>4</th>\n",
       "      <td>A Silent Voice</td>\n",
       "      <td>0.930808</td>\n",
       "      <td>Drama, School, Shounen</td>\n",
       "      <td>s a wild youth, elementary school student Shouya Ishida sought to beat boredom in the cruelest ways. When the deaf Shouko Nishimiya transfers into his class, Shouya and the rest of his class thoughtlessly bully her for fun. However, when her mother notifies the school, he is singled out and blamed for everything done to her. With Shouko transferring out of the school, Shouya is left at the mercy of his classmates. He is heartlessly ostracized all throughout elementary and middle school, while teachers turn a blind eye. Now in his third year of high school, Shouya is still plagued by his wrongdoings as a young boy. Sincerely regretting his past actions, he sets out on a journey of redemption: to meet Shouko once more and make amends. Koe no Katachi tells the heartwarming tale of Shouya's reunion with Shouko and his honest attempts to redeem himself, all while being continually haunted by the shadows of his past.</td>\n",
       "    </tr>\n",
       "    <tr>\n",
       "      <th>3</th>\n",
       "      <td>Your Lie in April</td>\n",
       "      <td>0.668515</td>\n",
       "      <td>Drama, Music, Romance, School, Shounen</td>\n",
       "      <td>usic accompanies the path of the human metronome, the prodigious pianist Kousei Arima. But after the passing of his mother, Saki Arima, Kousei falls into a downward spiral, rendering him unable to hear the sound of his own piano. Two years later, Kousei still avoids the piano, leaving behind his admirers and rivals, and lives a colorless life alongside his friends Tsubaki Sawabe and Ryouta Watari. However, everything changes when he meets a beautiful violinist, Kaori Miyazono, who stirs up his world and sets him on a journey to face music again. Based on the manga series of the same name, Shigatsu wa Kimi no Uso approaches the story of Kousei's recovery as he discovers that music is more than playing each note perfectly, and a single melody can bring in the fresh spring air of April.</td>\n",
       "    </tr>\n",
       "    <tr>\n",
       "      <th>2</th>\n",
       "      <td>Re:ZERO -Starting Life in Another World-</td>\n",
       "      <td>0.654194</td>\n",
       "      <td>Psychological, Drama, Thriller, Fantasy</td>\n",
       "      <td>hen Subaru Natsuki leaves the convenience store, the last thing he expects is to be wrenched from his everyday life and dropped into a fantasy world. Things aren't looking good for the bewildered teenager; however, not long after his arrival, he is attacked by some thugs. Armed with only a bag of groceries and a now useless cell phone, he is quickly beaten to a pulp. Fortunately, a mysterious beauty named Satella, in hot pursuit after the one who stole her insignia, happens upon Subaru and saves him. In order to thank the honest and kindhearted girl, Subaru offers to help in her search, and later that night, he even finds the whereabouts of that which she seeks. But unbeknownst to them, a much darker force stalks the pair from the shadows, and just minutes after locating the insignia, Subaru and Satella are brutally murdered. However, Subaru immediately reawakens to a familiar scene—confronted by the same group of thugs, meeting Satella all over again—the enigma deepens as history inexplicably repeats itself.</td>\n",
       "    </tr>\n",
       "    <tr>\n",
       "      <th>1</th>\n",
       "      <td>Shelter</td>\n",
       "      <td>0.647497</td>\n",
       "      <td>Sci-Fi, Music</td>\n",
       "      <td>Day 2539: Rin wakes up alone again with blurred memories and still no contact from any other human. She's not bored, however, because in her arms lies a tablet capable of creating any world her heart desires. Day after day, Rin crafts a wonderful reality—one utopia at a time—to shelter her from loneliness, hoping to one day reveal the truth behind her very existence.</td>\n",
       "    </tr>\n",
       "    <tr>\n",
       "      <th>0</th>\n",
       "      <td>Attack on Titan</td>\n",
       "      <td>0.641015</td>\n",
       "      <td>Action, Military, Mystery, Super Power, Drama, Fantasy, Shounen</td>\n",
       "      <td>Centuries ago, mankind was slaughtered to near extinction by monstrous humanoid creatures called titans, forcing humans to hide in fear behind enormous concentric walls. What makes these giants truly terrifying is that their taste for human flesh is not born out of hunger but what appears to be out of pleasure. To ensure their survival, the remnants of humanity began living within defensive barriers, resulting in one hundred years without a single titan encounter. However, that fragile calm is soon shattered when a colossal titan manages to breach the supposedly impregnable outer wall, reigniting the fight for survival against the man-eating abominations. After witnessing a horrific personal loss at the hands of the invading creatures, Eren Yeager dedicates his life to their eradication by enlisting into the Survey Corps, an elite military unit that combats the merciless humanoids outside the protection of the walls. Based on Hajime Isayama's award-winning manga, Shingeki no Kyojin follows Eren, along with his adopted sister Mikasa Ackerman and his childhood friend Armin Arlert, as they join the brutal war against the titans and race to discover a way of defeating them before the last walls are breached.</td>\n",
       "    </tr>\n",
       "  </tbody>\n",
       "</table>\n",
       "</div>"
      ],
      "text/plain": [
       "                                       name  similarity  \\\n",
       "4                            A Silent Voice    0.930808   \n",
       "3                         Your Lie in April    0.668515   \n",
       "2  Re:ZERO -Starting Life in Another World-    0.654194   \n",
       "1                                   Shelter    0.647497   \n",
       "0                           Attack on Titan    0.641015   \n",
       "\n",
       "                                                             genre  \\\n",
       "4                                           Drama, School, Shounen   \n",
       "3                           Drama, Music, Romance, School, Shounen   \n",
       "2                          Psychological, Drama, Thriller, Fantasy   \n",
       "1                                                    Sci-Fi, Music   \n",
       "0  Action, Military, Mystery, Super Power, Drama, Fantasy, Shounen   \n",
       "\n",
       "                                                                                                                                                                                                                                                                                                                                                                                                                                                                                                                                                                                                                                                                                                                                                                                                                                                                                                                                                                                                                                                                                                                                                                                                                                                                 sypnopsis  \n",
       "4                                                                                                                                                                                                                                                                                                             s a wild youth, elementary school student Shouya Ishida sought to beat boredom in the cruelest ways. When the deaf Shouko Nishimiya transfers into his class, Shouya and the rest of his class thoughtlessly bully her for fun. However, when her mother notifies the school, he is singled out and blamed for everything done to her. With Shouko transferring out of the school, Shouya is left at the mercy of his classmates. He is heartlessly ostracized all throughout elementary and middle school, while teachers turn a blind eye. Now in his third year of high school, Shouya is still plagued by his wrongdoings as a young boy. Sincerely regretting his past actions, he sets out on a journey of redemption: to meet Shouko once more and make amends. Koe no Katachi tells the heartwarming tale of Shouya's reunion with Shouko and his honest attempts to redeem himself, all while being continually haunted by the shadows of his past.  \n",
       "3                                                                                                                                                                                                                                                                                                                                                                                                                                               usic accompanies the path of the human metronome, the prodigious pianist Kousei Arima. But after the passing of his mother, Saki Arima, Kousei falls into a downward spiral, rendering him unable to hear the sound of his own piano. Two years later, Kousei still avoids the piano, leaving behind his admirers and rivals, and lives a colorless life alongside his friends Tsubaki Sawabe and Ryouta Watari. However, everything changes when he meets a beautiful violinist, Kaori Miyazono, who stirs up his world and sets him on a journey to face music again. Based on the manga series of the same name, Shigatsu wa Kimi no Uso approaches the story of Kousei's recovery as he discovers that music is more than playing each note perfectly, and a single melody can bring in the fresh spring air of April.  \n",
       "2                                                                                                                                                                                                         hen Subaru Natsuki leaves the convenience store, the last thing he expects is to be wrenched from his everyday life and dropped into a fantasy world. Things aren't looking good for the bewildered teenager; however, not long after his arrival, he is attacked by some thugs. Armed with only a bag of groceries and a now useless cell phone, he is quickly beaten to a pulp. Fortunately, a mysterious beauty named Satella, in hot pursuit after the one who stole her insignia, happens upon Subaru and saves him. In order to thank the honest and kindhearted girl, Subaru offers to help in her search, and later that night, he even finds the whereabouts of that which she seeks. But unbeknownst to them, a much darker force stalks the pair from the shadows, and just minutes after locating the insignia, Subaru and Satella are brutally murdered. However, Subaru immediately reawakens to a familiar scene—confronted by the same group of thugs, meeting Satella all over again—the enigma deepens as history inexplicably repeats itself.  \n",
       "1                                                                                                                                                                                                                                                                                                                                                                                                                                                                                                                                                                                                                                                                                                                                                                                                                                                                                        Day 2539: Rin wakes up alone again with blurred memories and still no contact from any other human. She's not bored, however, because in her arms lies a tablet capable of creating any world her heart desires. Day after day, Rin crafts a wonderful reality—one utopia at a time—to shelter her from loneliness, hoping to one day reveal the truth behind her very existence.  \n",
       "0  Centuries ago, mankind was slaughtered to near extinction by monstrous humanoid creatures called titans, forcing humans to hide in fear behind enormous concentric walls. What makes these giants truly terrifying is that their taste for human flesh is not born out of hunger but what appears to be out of pleasure. To ensure their survival, the remnants of humanity began living within defensive barriers, resulting in one hundred years without a single titan encounter. However, that fragile calm is soon shattered when a colossal titan manages to breach the supposedly impregnable outer wall, reigniting the fight for survival against the man-eating abominations. After witnessing a horrific personal loss at the hands of the invading creatures, Eren Yeager dedicates his life to their eradication by enlisting into the Survey Corps, an elite military unit that combats the merciless humanoids outside the protection of the walls. Based on Hajime Isayama's award-winning manga, Shingeki no Kyojin follows Eren, along with his adopted sister Mikasa Ackerman and his childhood friend Armin Arlert, as they join the brutal war against the titans and race to discover a way of defeating them before the last walls are breached.  "
      ]
     },
     "execution_count": 24,
     "metadata": {},
     "output_type": "execute_result"
    }
   ],
   "source": [
    "find_similar_animes('Your Name.', n=5, neg=False)"
   ]
  },
  {
   "cell_type": "markdown",
   "id": "sufficient-supplement",
   "metadata": {
    "papermill": {
     "duration": 1.25095,
     "end_time": "2021-06-09T16:01:17.253686",
     "exception": false,
     "start_time": "2021-06-09T16:01:16.002736",
     "status": "completed"
    },
    "tags": []
   },
   "source": [
    "![](https://i.pinimg.com/originals/26/fd/49/26fd49fa54b204fbaf6301efefd53ae2.gif)"
   ]
  },
  {
   "cell_type": "code",
   "execution_count": 25,
   "id": "indoor-contribution",
   "metadata": {
    "execution": {
     "iopub.execute_input": "2021-06-09T16:01:19.764734Z",
     "iopub.status.busy": "2021-06-09T16:01:19.763585Z",
     "iopub.status.idle": "2021-06-09T16:01:19.805162Z",
     "shell.execute_reply": "2021-06-09T16:01:19.806090Z",
     "shell.execute_reply.started": "2021-06-09T14:45:35.149998Z"
    },
    "papermill": {
     "duration": 1.278202,
     "end_time": "2021-06-09T16:01:19.806367",
     "exception": false,
     "start_time": "2021-06-09T16:01:18.528165",
     "status": "completed"
    },
    "tags": []
   },
   "outputs": [
    {
     "name": "stdout",
     "output_type": "stream",
     "text": [
      "animes closest to Sword Art Online\n"
     ]
    },
    {
     "data": {
      "text/html": [
       "<div>\n",
       "<style scoped>\n",
       "    .dataframe tbody tr th:only-of-type {\n",
       "        vertical-align: middle;\n",
       "    }\n",
       "\n",
       "    .dataframe tbody tr th {\n",
       "        vertical-align: top;\n",
       "    }\n",
       "\n",
       "    .dataframe thead th {\n",
       "        text-align: right;\n",
       "    }\n",
       "</style>\n",
       "<table border=\"1\" class=\"dataframe\">\n",
       "  <thead>\n",
       "    <tr style=\"text-align: right;\">\n",
       "      <th></th>\n",
       "      <th>name</th>\n",
       "      <th>similarity</th>\n",
       "      <th>genre</th>\n",
       "      <th>sypnopsis</th>\n",
       "    </tr>\n",
       "  </thead>\n",
       "  <tbody>\n",
       "    <tr>\n",
       "      <th>4</th>\n",
       "      <td>Sword Art Online II</td>\n",
       "      <td>0.881346</td>\n",
       "      <td>Action, Game, Adventure, Romance, Fantasy</td>\n",
       "      <td>ar after escaping Sword Art Online, Kazuto Kirigaya has been settling back into the real world. However, his peace is short-lived as a new incident occurs in a game called Gun Gale Online, where a player by the name of Death Gun appears to be killing people in the real world by shooting them in-game. Approached by officials to assist in investigating the murders, Kazuto assumes his persona of Kirito once again and logs into Gun Gale Online, intent on stopping the killer. Once inside, Kirito meets Sinon, a highly skilled sniper afflicted by a traumatic past. She is soon dragged in his chase after Death Gun, and together they enter the Bullet of Bullets, a tournament where their target is sure to appear. Uncertain of Death Gun's real powers, Kirito and Sinon race to stop him before he has the chance to claim another life. Not everything goes smoothly, however, as scars from the past impede their progress. In a high-stakes game where the next victim could easily be one of them, Kirito puts his life on the line in the virtual world once more.</td>\n",
       "    </tr>\n",
       "    <tr>\n",
       "      <th>3</th>\n",
       "      <td>No Game, No Life</td>\n",
       "      <td>0.811123</td>\n",
       "      <td>Game, Adventure, Comedy, Supernatural, Ecchi, Fantasy</td>\n",
       "      <td>No Game No Life is a surreal comedy that follows Sora and Shiro, shut-in NEET siblings and the online gamer duo behind the legendary username \"Blank.\" They view the real world as just another lousy game; however, a strange e-mail challenging them to a chess match changes everything—the brother and sister are plunged into an otherworldly realm where they meet Tet, the God of Games. The mysterious god welcomes Sora and Shiro to Disboard, a world where all forms of conflict—from petty squabbles to the fate of whole countries—are settled not through war, but by way of high-stake games. This system works thanks to a fundamental rule wherein each party must wager something they deem to be of equal value to the other party's wager. In this strange land where the very idea of humanity is reduced to child's play, the indifferent genius gamer duo of Sora and Shiro have finally found a real reason to keep playing games: to unite the sixteen races of Disboard, defeat Tet, and become the gods of this new, gaming-is-everything world.</td>\n",
       "    </tr>\n",
       "    <tr>\n",
       "      <th>2</th>\n",
       "      <td>Attack on Titan</td>\n",
       "      <td>0.771938</td>\n",
       "      <td>Action, Military, Mystery, Super Power, Drama, Fantasy, Shounen</td>\n",
       "      <td>Centuries ago, mankind was slaughtered to near extinction by monstrous humanoid creatures called titans, forcing humans to hide in fear behind enormous concentric walls. What makes these giants truly terrifying is that their taste for human flesh is not born out of hunger but what appears to be out of pleasure. To ensure their survival, the remnants of humanity began living within defensive barriers, resulting in one hundred years without a single titan encounter. However, that fragile calm is soon shattered when a colossal titan manages to breach the supposedly impregnable outer wall, reigniting the fight for survival against the man-eating abominations. After witnessing a horrific personal loss at the hands of the invading creatures, Eren Yeager dedicates his life to their eradication by enlisting into the Survey Corps, an elite military unit that combats the merciless humanoids outside the protection of the walls. Based on Hajime Isayama's award-winning manga, Shingeki no Kyojin follows Eren, along with his adopted sister Mikasa Ackerman and his childhood friend Armin Arlert, as they join the brutal war against the titans and race to discover a way of defeating them before the last walls are breached.</td>\n",
       "    </tr>\n",
       "    <tr>\n",
       "      <th>1</th>\n",
       "      <td>Tokyo Ghoul</td>\n",
       "      <td>0.734744</td>\n",
       "      <td>Action, Mystery, Horror, Psychological, Supernatural, Drama, Seinen</td>\n",
       "      <td>Tokyo has become a cruel and merciless city—a place where vicious creatures called \"ghouls\" exist alongside humans. The citizens of this once great metropolis live in constant fear of these bloodthirsty savages and their thirst for human flesh. However, the greatest threat these ghouls pose is their dangerous ability to masquerade as humans and blend in with society. Based on the best-selling supernatural horror manga by Sui Ishida, Tokyo Ghoul follows Ken Kaneki, a shy, bookish college student, who is instantly drawn to Rize Kamishiro, an avid reader like himself. However, Rize is not exactly who she seems, and this unfortunate meeting pushes Kaneki into the dark depths of the ghouls' inhuman world. In a twist of fate, Kaneki is saved by the enigmatic waitress Touka Kirishima, and thus begins his new, secret life as a half-ghoul/half-human who must find a way to integrate into both societies.</td>\n",
       "    </tr>\n",
       "    <tr>\n",
       "      <th>0</th>\n",
       "      <td>Sword Art Online:Extra Edition</td>\n",
       "      <td>0.726421</td>\n",
       "      <td>Action, Adventure, Fantasy, Game, Romance</td>\n",
       "      <td>The story is set a couple of years after the events of Sword Art Online , where Kazuto \"Kirito\" Kirigaya and his sister Suguha meet up with Asuna Yuuki, Rika \"Lisbeth\" Shinozaki, and Keiko \"Silica\" Ayano at the SAO Survivor School. Kirito then attends emergency counseling, while the girls go for a swim at the pool. It turns out that said \"emergency counseling\" is a subterfuge set up by Seijirou Kikuoka, aiming to rehash the incident of Sword Art Online in hopes of determining Akihiko Kayaba's motives. What will the girls get up to in the pool, and what awaits Kirito and his \"counseling\"?</td>\n",
       "    </tr>\n",
       "  </tbody>\n",
       "</table>\n",
       "</div>"
      ],
      "text/plain": [
       "                             name  similarity  \\\n",
       "4             Sword Art Online II    0.881346   \n",
       "3                No Game, No Life    0.811123   \n",
       "2                 Attack on Titan    0.771938   \n",
       "1                     Tokyo Ghoul    0.734744   \n",
       "0  Sword Art Online:Extra Edition    0.726421   \n",
       "\n",
       "                                                                 genre  \\\n",
       "4                            Action, Game, Adventure, Romance, Fantasy   \n",
       "3                Game, Adventure, Comedy, Supernatural, Ecchi, Fantasy   \n",
       "2      Action, Military, Mystery, Super Power, Drama, Fantasy, Shounen   \n",
       "1  Action, Mystery, Horror, Psychological, Supernatural, Drama, Seinen   \n",
       "0                            Action, Adventure, Fantasy, Game, Romance   \n",
       "\n",
       "                                                                                                                                                                                                                                                                                                                                                                                                                                                                                                                                                                                                                                                                                                                                                                                                                                                                                                                                                                                                                                                                                                                                                                                                                                                                 sypnopsis  \n",
       "4                                                                                                                                                                           ar after escaping Sword Art Online, Kazuto Kirigaya has been settling back into the real world. However, his peace is short-lived as a new incident occurs in a game called Gun Gale Online, where a player by the name of Death Gun appears to be killing people in the real world by shooting them in-game. Approached by officials to assist in investigating the murders, Kazuto assumes his persona of Kirito once again and logs into Gun Gale Online, intent on stopping the killer. Once inside, Kirito meets Sinon, a highly skilled sniper afflicted by a traumatic past. She is soon dragged in his chase after Death Gun, and together they enter the Bullet of Bullets, a tournament where their target is sure to appear. Uncertain of Death Gun's real powers, Kirito and Sinon race to stop him before he has the chance to claim another life. Not everything goes smoothly, however, as scars from the past impede their progress. In a high-stakes game where the next victim could easily be one of them, Kirito puts his life on the line in the virtual world once more.  \n",
       "3                                                                                                                                                                                              No Game No Life is a surreal comedy that follows Sora and Shiro, shut-in NEET siblings and the online gamer duo behind the legendary username \"Blank.\" They view the real world as just another lousy game; however, a strange e-mail challenging them to a chess match changes everything—the brother and sister are plunged into an otherworldly realm where they meet Tet, the God of Games. The mysterious god welcomes Sora and Shiro to Disboard, a world where all forms of conflict—from petty squabbles to the fate of whole countries—are settled not through war, but by way of high-stake games. This system works thanks to a fundamental rule wherein each party must wager something they deem to be of equal value to the other party's wager. In this strange land where the very idea of humanity is reduced to child's play, the indifferent genius gamer duo of Sora and Shiro have finally found a real reason to keep playing games: to unite the sixteen races of Disboard, defeat Tet, and become the gods of this new, gaming-is-everything world.  \n",
       "2  Centuries ago, mankind was slaughtered to near extinction by monstrous humanoid creatures called titans, forcing humans to hide in fear behind enormous concentric walls. What makes these giants truly terrifying is that their taste for human flesh is not born out of hunger but what appears to be out of pleasure. To ensure their survival, the remnants of humanity began living within defensive barriers, resulting in one hundred years without a single titan encounter. However, that fragile calm is soon shattered when a colossal titan manages to breach the supposedly impregnable outer wall, reigniting the fight for survival against the man-eating abominations. After witnessing a horrific personal loss at the hands of the invading creatures, Eren Yeager dedicates his life to their eradication by enlisting into the Survey Corps, an elite military unit that combats the merciless humanoids outside the protection of the walls. Based on Hajime Isayama's award-winning manga, Shingeki no Kyojin follows Eren, along with his adopted sister Mikasa Ackerman and his childhood friend Armin Arlert, as they join the brutal war against the titans and race to discover a way of defeating them before the last walls are breached.  \n",
       "1                                                                                                                                                                                                                                                                                                                               Tokyo has become a cruel and merciless city—a place where vicious creatures called \"ghouls\" exist alongside humans. The citizens of this once great metropolis live in constant fear of these bloodthirsty savages and their thirst for human flesh. However, the greatest threat these ghouls pose is their dangerous ability to masquerade as humans and blend in with society. Based on the best-selling supernatural horror manga by Sui Ishida, Tokyo Ghoul follows Ken Kaneki, a shy, bookish college student, who is instantly drawn to Rize Kamishiro, an avid reader like himself. However, Rize is not exactly who she seems, and this unfortunate meeting pushes Kaneki into the dark depths of the ghouls' inhuman world. In a twist of fate, Kaneki is saved by the enigmatic waitress Touka Kirishima, and thus begins his new, secret life as a half-ghoul/half-human who must find a way to integrate into both societies.  \n",
       "0                                                                                                                                                                                                                                                                                                                                                                                                                                                                                                                                                                                                                                                       The story is set a couple of years after the events of Sword Art Online , where Kazuto \"Kirito\" Kirigaya and his sister Suguha meet up with Asuna Yuuki, Rika \"Lisbeth\" Shinozaki, and Keiko \"Silica\" Ayano at the SAO Survivor School. Kirito then attends emergency counseling, while the girls go for a swim at the pool. It turns out that said \"emergency counseling\" is a subterfuge set up by Seijirou Kikuoka, aiming to rehash the incident of Sword Art Online in hopes of determining Akihiko Kayaba's motives. What will the girls get up to in the pool, and what awaits Kirito and his \"counseling\"?  "
      ]
     },
     "execution_count": 25,
     "metadata": {},
     "output_type": "execute_result"
    }
   ],
   "source": [
    "find_similar_animes('Sword Art Online', n=5, neg=False)"
   ]
  },
  {
   "cell_type": "code",
   "execution_count": 26,
   "id": "oriented-trinity",
   "metadata": {
    "execution": {
     "iopub.execute_input": "2021-06-09T16:01:24.748645Z",
     "iopub.status.busy": "2021-06-09T16:01:24.747684Z",
     "iopub.status.idle": "2021-06-09T16:01:24.787571Z",
     "shell.execute_reply": "2021-06-09T16:01:24.788574Z",
     "shell.execute_reply.started": "2021-06-09T14:45:35.209922Z"
    },
    "papermill": {
     "duration": 1.27377,
     "end_time": "2021-06-09T16:01:24.788854",
     "exception": false,
     "start_time": "2021-06-09T16:01:23.515084",
     "status": "completed"
    },
    "tags": []
   },
   "outputs": [
    {
     "name": "stdout",
     "output_type": "stream",
     "text": [
      "animes closest to Black Clover\n"
     ]
    },
    {
     "data": {
      "text/html": [
       "<div>\n",
       "<style scoped>\n",
       "    .dataframe tbody tr th:only-of-type {\n",
       "        vertical-align: middle;\n",
       "    }\n",
       "\n",
       "    .dataframe tbody tr th {\n",
       "        vertical-align: top;\n",
       "    }\n",
       "\n",
       "    .dataframe thead th {\n",
       "        text-align: right;\n",
       "    }\n",
       "</style>\n",
       "<table border=\"1\" class=\"dataframe\">\n",
       "  <thead>\n",
       "    <tr style=\"text-align: right;\">\n",
       "      <th></th>\n",
       "      <th>name</th>\n",
       "      <th>similarity</th>\n",
       "      <th>genre</th>\n",
       "      <th>sypnopsis</th>\n",
       "    </tr>\n",
       "  </thead>\n",
       "  <tbody>\n",
       "    <tr>\n",
       "      <th>4</th>\n",
       "      <td>Boruto:Naruto Next Generations</td>\n",
       "      <td>0.716360</td>\n",
       "      <td>Action, Adventure, Super Power, Martial Arts, Shounen</td>\n",
       "      <td>Following the successful end of the Fourth Shinobi World War, Konohagakure has been enjoying a period of peace, prosperity, and extraordinary technological advancement. This is all due to the efforts of the Allied Shinobi Forces and the village's Seventh Hokage, Naruto Uzumaki. Now resembling a modern metropolis, Konohagakure has changed, particularly the life of a shinobi. Under the watchful eye of Naruto and his old comrades, a new generation of shinobi has stepped up to learn the ways of the ninja. Boruto Uzumaki is often the center of attention as the son of the Seventh Hokage. Despite having inherited Naruto's boisterous and stubborn demeanor, Boruto is considered a prodigy and is able to unleash his potential with the help of supportive friends and family. Unfortunately, this has only worsened his arrogance and his desire to surpass Naruto which, along with his father's busy lifestyle, has strained their relationship. However, a sinister force brewing within the village may threaten Boruto's carefree life. New friends and familiar faces join Boruto as a new story begins in Boruto: Naruto Next Generations .</td>\n",
       "    </tr>\n",
       "    <tr>\n",
       "      <th>3</th>\n",
       "      <td>Super Dragon Ball Heroes</td>\n",
       "      <td>0.571534</td>\n",
       "      <td>Action, Comedy, Super Power, Martial Arts, Fantasy, Shounen</td>\n",
       "      <td>In May 2018, V-Jump announced a promotional anime for Dragon Ball Heroes , a Japanese arcade and trading card game that has never been released in the West. The anime is expected to be short and it is not expected to broadcast on TV. It will adapt the game's Prison Planet Arc, fully detailed in the Heroes manga published in Saikyou Jump, which has never been published in English. The first episode will debut July 1, 2018 at Aeon Lake Town.</td>\n",
       "    </tr>\n",
       "    <tr>\n",
       "      <th>2</th>\n",
       "      <td>Jujutsu Kaisen (TV)</td>\n",
       "      <td>0.570274</td>\n",
       "      <td>Action, Demons, Supernatural, School, Shounen</td>\n",
       "      <td>Idly indulging in baseless paranormal activities with the Occult Club, high schooler Yuuji Itadori spends his days at either the clubroom or the hospital, where he visits his bedridden grandfather. However, this leisurely lifestyle soon takes a turn for the strange when he unknowingly encounters a cursed item. Triggering a chain of supernatural occurrences, Yuuji finds himself suddenly thrust into the world of Curses—dreadful beings formed from human malice and negativity—after swallowing the said item, revealed to be a finger belonging to the demon Sukuna Ryoumen, the \"King of Curses.\" Yuuji experiences first-hand the threat these Curses pose to society as he discovers his own newfound powers. Introduced to the Tokyo Metropolitan Jujutsu Technical High School, he begins to walk down a path from which he cannot return—the path of a Jujutsu sorcerer.</td>\n",
       "    </tr>\n",
       "    <tr>\n",
       "      <th>1</th>\n",
       "      <td>Fire Force</td>\n",
       "      <td>0.494231</td>\n",
       "      <td>Action, Supernatural, Shounen</td>\n",
       "      <td>Spontaneous Human Combustion: a chaotic phenomenon that has plagued humanity for years, randomly transforming ordinary people into flaming, violent creatures known as Infernals. While Infernals make up the first-generation accounts of Human Combustion, the second and third generations became known as pyrokinetics—people gifted with the ability to manipulate and control their flames while remaining human. To combat the Infernal threat and discover the cause, the Tokyo Armed Forces, Fire Defense Agency, and Holy Church of Sol produced their answer: the Special Fire Force. Young and eager third-generation pyrokinetic Shinra Kusakabe, nicknamed Devil's Footprints for his explosive ability to ignite his feet at will, becomes a member of the lively Special Fire Force Company 8. Upholding the brigade's duty to extinguish the blazing Infernals and lay their souls to rest, Shinra is determined to become a hero who will save the lives of those threatened by the flame terror. However, this is not the hero's game Shinra imagined. The Fire Force is a fractured mess of feuding brigades, abnormal Infernal sightings are increasing all over Tokyo, and a shadowy group is claiming to have answers to the strange fire that caused the death of Shinra's family 12 years ago. Faced with many obstacles within and outside the Fire Force, Shinra fights to uncover the truth behind the burning mysteries that have kept him in the dark.</td>\n",
       "    </tr>\n",
       "    <tr>\n",
       "      <th>0</th>\n",
       "      <td>Radiant</td>\n",
       "      <td>0.483422</td>\n",
       "      <td>Action, Adventure, Fantasy, Magic</td>\n",
       "      <td>Nemeses—powerful and mysterious demonic entities that fall from the sky and vaporize anything they touch. The only ones who can combat these creatures are Sorcerers, those who have survived an encounter with a Nemesis but were infected in the process. Seth, a Sorcerer from Pompo Hills, sets out on an adventure to exterminate all these Nemeses. Accompanying him are Doc and Mélie, fellow Sorcerers who share his ideal. Their main objective is to bring about a world where Sorcerers are no longer persecuted for being infected, and to that end, desire to destroy the source of the Nemeses themselves: the mythical Radiant.</td>\n",
       "    </tr>\n",
       "  </tbody>\n",
       "</table>\n",
       "</div>"
      ],
      "text/plain": [
       "                             name  similarity  \\\n",
       "4  Boruto:Naruto Next Generations    0.716360   \n",
       "3        Super Dragon Ball Heroes    0.571534   \n",
       "2             Jujutsu Kaisen (TV)    0.570274   \n",
       "1                      Fire Force    0.494231   \n",
       "0                         Radiant    0.483422   \n",
       "\n",
       "                                                         genre  \\\n",
       "4        Action, Adventure, Super Power, Martial Arts, Shounen   \n",
       "3  Action, Comedy, Super Power, Martial Arts, Fantasy, Shounen   \n",
       "2                Action, Demons, Supernatural, School, Shounen   \n",
       "1                                Action, Supernatural, Shounen   \n",
       "0                            Action, Adventure, Fantasy, Magic   \n",
       "\n",
       "                                                                                                                                                                                                                                                                                                                                                                                                                                                                                                                                                                                                                                                                                                                                                                                                                                                                                                                                                                                                                                                                                                                                                                                                                                                                                                                                                                                                                                                                              sypnopsis  \n",
       "4                                                                                                                                                                                                                                                                                                             Following the successful end of the Fourth Shinobi World War, Konohagakure has been enjoying a period of peace, prosperity, and extraordinary technological advancement. This is all due to the efforts of the Allied Shinobi Forces and the village's Seventh Hokage, Naruto Uzumaki. Now resembling a modern metropolis, Konohagakure has changed, particularly the life of a shinobi. Under the watchful eye of Naruto and his old comrades, a new generation of shinobi has stepped up to learn the ways of the ninja. Boruto Uzumaki is often the center of attention as the son of the Seventh Hokage. Despite having inherited Naruto's boisterous and stubborn demeanor, Boruto is considered a prodigy and is able to unleash his potential with the help of supportive friends and family. Unfortunately, this has only worsened his arrogance and his desire to surpass Naruto which, along with his father's busy lifestyle, has strained their relationship. However, a sinister force brewing within the village may threaten Boruto's carefree life. New friends and familiar faces join Boruto as a new story begins in Boruto: Naruto Next Generations .  \n",
       "3                                                                                                                                                                                                                                                                                                                                                                                                                                                                                                                                                                                                                                                                                                                                                                                                                                                                                                                                                                                                                           In May 2018, V-Jump announced a promotional anime for Dragon Ball Heroes , a Japanese arcade and trading card game that has never been released in the West. The anime is expected to be short and it is not expected to broadcast on TV. It will adapt the game's Prison Planet Arc, fully detailed in the Heroes manga published in Saikyou Jump, which has never been published in English. The first episode will debut July 1, 2018 at Aeon Lake Town.  \n",
       "2                                                                                                                                                                                                                                                                                                                                                                                                                                                                                                                                                                                         Idly indulging in baseless paranormal activities with the Occult Club, high schooler Yuuji Itadori spends his days at either the clubroom or the hospital, where he visits his bedridden grandfather. However, this leisurely lifestyle soon takes a turn for the strange when he unknowingly encounters a cursed item. Triggering a chain of supernatural occurrences, Yuuji finds himself suddenly thrust into the world of Curses—dreadful beings formed from human malice and negativity—after swallowing the said item, revealed to be a finger belonging to the demon Sukuna Ryoumen, the \"King of Curses.\" Yuuji experiences first-hand the threat these Curses pose to society as he discovers his own newfound powers. Introduced to the Tokyo Metropolitan Jujutsu Technical High School, he begins to walk down a path from which he cannot return—the path of a Jujutsu sorcerer.  \n",
       "1  Spontaneous Human Combustion: a chaotic phenomenon that has plagued humanity for years, randomly transforming ordinary people into flaming, violent creatures known as Infernals. While Infernals make up the first-generation accounts of Human Combustion, the second and third generations became known as pyrokinetics—people gifted with the ability to manipulate and control their flames while remaining human. To combat the Infernal threat and discover the cause, the Tokyo Armed Forces, Fire Defense Agency, and Holy Church of Sol produced their answer: the Special Fire Force. Young and eager third-generation pyrokinetic Shinra Kusakabe, nicknamed Devil's Footprints for his explosive ability to ignite his feet at will, becomes a member of the lively Special Fire Force Company 8. Upholding the brigade's duty to extinguish the blazing Infernals and lay their souls to rest, Shinra is determined to become a hero who will save the lives of those threatened by the flame terror. However, this is not the hero's game Shinra imagined. The Fire Force is a fractured mess of feuding brigades, abnormal Infernal sightings are increasing all over Tokyo, and a shadowy group is claiming to have answers to the strange fire that caused the death of Shinra's family 12 years ago. Faced with many obstacles within and outside the Fire Force, Shinra fights to uncover the truth behind the burning mysteries that have kept him in the dark.  \n",
       "0                                                                                                                                                                                                                                                                                                                                                                                                                                                                                                                                                                                                                                                                                                                                                                                                                                        Nemeses—powerful and mysterious demonic entities that fall from the sky and vaporize anything they touch. The only ones who can combat these creatures are Sorcerers, those who have survived an encounter with a Nemesis but were infected in the process. Seth, a Sorcerer from Pompo Hills, sets out on an adventure to exterminate all these Nemeses. Accompanying him are Doc and Mélie, fellow Sorcerers who share his ideal. Their main objective is to bring about a world where Sorcerers are no longer persecuted for being infected, and to that end, desire to destroy the source of the Nemeses themselves: the mythical Radiant.  "
      ]
     },
     "execution_count": 26,
     "metadata": {},
     "output_type": "execute_result"
    }
   ],
   "source": [
    "find_similar_animes('Black Clover', n=5, neg=False)"
   ]
  },
  {
   "cell_type": "markdown",
   "id": "general-preliminary",
   "metadata": {
    "papermill": {
     "duration": 1.23739,
     "end_time": "2021-06-09T16:01:27.336629",
     "exception": false,
     "start_time": "2021-06-09T16:01:26.099239",
     "status": "completed"
    },
    "tags": []
   },
   "source": [
    "## **Task 2**: Finding Similar Users (User Based Recommendation)"
   ]
  },
  {
   "cell_type": "code",
   "execution_count": 27,
   "id": "disturbed-trustee",
   "metadata": {
    "execution": {
     "iopub.execute_input": "2021-06-09T16:01:29.885987Z",
     "iopub.status.busy": "2021-06-09T16:01:29.885267Z",
     "iopub.status.idle": "2021-06-09T16:01:33.058772Z",
     "shell.execute_reply": "2021-06-09T16:01:33.059420Z",
     "shell.execute_reply.started": "2021-06-09T15:49:18.917327Z"
    },
    "papermill": {
     "duration": 4.437166,
     "end_time": "2021-06-09T16:01:33.059590",
     "exception": false,
     "start_time": "2021-06-09T16:01:28.622424",
     "status": "completed"
    },
    "tags": []
   },
   "outputs": [
    {
     "name": "stdout",
     "output_type": "stream",
     "text": [
      "> picking up random user\n",
      "> user_id: 88895\n"
     ]
    }
   ],
   "source": [
    "print('> picking up random user')\n",
    "\n",
    "ratings_per_user = rating_df.groupby('user_id').size()\n",
    "random_user = ratings_per_user[ratings_per_user < 500].sample(1, random_state=None).index[0]\n",
    "print('> user_id:', random_user)"
   ]
  },
  {
   "cell_type": "code",
   "execution_count": 28,
   "id": "adaptive-currency",
   "metadata": {
    "execution": {
     "iopub.execute_input": "2021-06-09T16:01:35.525141Z",
     "iopub.status.busy": "2021-06-09T16:01:35.524464Z",
     "iopub.status.idle": "2021-06-09T16:01:35.533680Z",
     "shell.execute_reply": "2021-06-09T16:01:35.534197Z",
     "shell.execute_reply.started": "2021-06-09T15:49:23.647622Z"
    },
    "papermill": {
     "duration": 1.242228,
     "end_time": "2021-06-09T16:01:35.534363",
     "exception": false,
     "start_time": "2021-06-09T16:01:34.292135",
     "status": "completed"
    },
    "tags": []
   },
   "outputs": [],
   "source": [
    "#pd.reset_option('all')\n",
    "pd.set_option(\"max_colwidth\", None)\n",
    "\n",
    "def find_similar_users(item_input, n=10,return_dist=False, neg=False):\n",
    "    try:\n",
    "        index = item_input\n",
    "        encoded_index = user2user_encoded.get(index)\n",
    "        weights = user_weights\n",
    "    \n",
    "        dists = np.dot(weights, weights[encoded_index])\n",
    "        sorted_dists = np.argsort(dists)\n",
    "        \n",
    "        n = n + 1\n",
    "        \n",
    "        if neg:\n",
    "            closest = sorted_dists[:n]\n",
    "        else:\n",
    "            closest = sorted_dists[-n:]\n",
    "\n",
    "        print('> users similar to #{}'.format(item_input))\n",
    "\n",
    "        if return_dist:\n",
    "            return dists, closest\n",
    "        \n",
    "        rindex = df\n",
    "        SimilarityArr = []\n",
    "        \n",
    "        for close in closest:\n",
    "            similarity = dists[close]\n",
    "\n",
    "            if isinstance(item_input, int):\n",
    "                decoded_id = user_encoded2user.get(close)\n",
    "                SimilarityArr.append({\"similar_users\": decoded_id, \n",
    "                                      \"similarity\": similarity})\n",
    "\n",
    "        Frame = pd.DataFrame(SimilarityArr).sort_values(by=\"similarity\", \n",
    "                                                        ascending=False)\n",
    "        \n",
    "        return Frame\n",
    "    \n",
    "    except:\n",
    "        print('{}!, Not Found in User list'.format(name))"
   ]
  },
  {
   "cell_type": "code",
   "execution_count": 29,
   "id": "sexual-graduate",
   "metadata": {
    "execution": {
     "iopub.execute_input": "2021-06-09T16:01:38.041956Z",
     "iopub.status.busy": "2021-06-09T16:01:38.041286Z",
     "iopub.status.idle": "2021-06-09T16:01:38.079111Z",
     "shell.execute_reply": "2021-06-09T16:01:38.080125Z",
     "shell.execute_reply.started": "2021-06-09T15:50:36.354154Z"
    },
    "papermill": {
     "duration": 1.270108,
     "end_time": "2021-06-09T16:01:38.080432",
     "exception": false,
     "start_time": "2021-06-09T16:01:36.810324",
     "status": "completed"
    },
    "tags": []
   },
   "outputs": [
    {
     "name": "stdout",
     "output_type": "stream",
     "text": [
      "> users similar to #88895\n"
     ]
    },
    {
     "data": {
      "text/html": [
       "<div>\n",
       "<style scoped>\n",
       "    .dataframe tbody tr th:only-of-type {\n",
       "        vertical-align: middle;\n",
       "    }\n",
       "\n",
       "    .dataframe tbody tr th {\n",
       "        vertical-align: top;\n",
       "    }\n",
       "\n",
       "    .dataframe thead th {\n",
       "        text-align: right;\n",
       "    }\n",
       "</style>\n",
       "<table border=\"1\" class=\"dataframe\">\n",
       "  <thead>\n",
       "    <tr style=\"text-align: right;\">\n",
       "      <th></th>\n",
       "      <th>similar_users</th>\n",
       "      <th>similarity</th>\n",
       "    </tr>\n",
       "  </thead>\n",
       "  <tbody>\n",
       "    <tr>\n",
       "      <th>4</th>\n",
       "      <td>154492</td>\n",
       "      <td>0.519759</td>\n",
       "    </tr>\n",
       "    <tr>\n",
       "      <th>3</th>\n",
       "      <td>287309</td>\n",
       "      <td>0.509287</td>\n",
       "    </tr>\n",
       "    <tr>\n",
       "      <th>2</th>\n",
       "      <td>155091</td>\n",
       "      <td>0.504742</td>\n",
       "    </tr>\n",
       "    <tr>\n",
       "      <th>1</th>\n",
       "      <td>165649</td>\n",
       "      <td>0.500794</td>\n",
       "    </tr>\n",
       "    <tr>\n",
       "      <th>0</th>\n",
       "      <td>258400</td>\n",
       "      <td>0.499303</td>\n",
       "    </tr>\n",
       "  </tbody>\n",
       "</table>\n",
       "</div>"
      ],
      "text/plain": [
       "   similar_users  similarity\n",
       "4         154492    0.519759\n",
       "3         287309    0.509287\n",
       "2         155091    0.504742\n",
       "1         165649    0.500794\n",
       "0         258400    0.499303"
      ]
     },
     "execution_count": 29,
     "metadata": {},
     "output_type": "execute_result"
    }
   ],
   "source": [
    "similar_users = find_similar_users(int(random_user), \n",
    "                                   n=5, \n",
    "                                   neg=False)\n",
    "\n",
    "similar_users = similar_users[similar_users.similarity > 0.4]\n",
    "similar_users = similar_users[similar_users.similar_users != random_user]\n",
    "similar_users.head(5)"
   ]
  },
  {
   "cell_type": "markdown",
   "id": "focused-thread",
   "metadata": {
    "papermill": {
     "duration": 1.227457,
     "end_time": "2021-06-09T16:01:40.604553",
     "exception": false,
     "start_time": "2021-06-09T16:01:39.377096",
     "status": "completed"
    },
    "tags": []
   },
   "source": [
    "## **User preferences**"
   ]
  },
  {
   "cell_type": "code",
   "execution_count": 30,
   "id": "numerous-elite",
   "metadata": {
    "execution": {
     "iopub.execute_input": "2021-06-09T16:01:43.072173Z",
     "iopub.status.busy": "2021-06-09T16:01:43.071258Z",
     "iopub.status.idle": "2021-06-09T16:01:43.109852Z",
     "shell.execute_reply": "2021-06-09T16:01:43.109171Z",
     "shell.execute_reply.started": "2021-06-09T15:50:36.872100Z"
    },
    "papermill": {
     "duration": 1.276591,
     "end_time": "2021-06-09T16:01:43.110004",
     "exception": false,
     "start_time": "2021-06-09T16:01:41.833413",
     "status": "completed"
    },
    "tags": []
   },
   "outputs": [],
   "source": [
    "from wordcloud import WordCloud\n",
    "from collections import defaultdict\n",
    "import matplotlib.pyplot as plt\n",
    "\n",
    "def showWordCloud(all_genres):\n",
    "    genres_cloud = WordCloud(width=700, height=400, \n",
    "                             background_color='white', \n",
    "                             colormap='gnuplot').generate_from_frequencies(all_genres)\n",
    "    \n",
    "    plt.figure(figsize=(10,8)) \n",
    "    plt.imshow(genres_cloud, interpolation='bilinear')\n",
    "    plt.axis('off')\n",
    "    plt.show()\n",
    "\n",
    "def getFavGenre(frame, plot=False):\n",
    "        frame.dropna(inplace=False)\n",
    "        all_genres = defaultdict(int)\n",
    "        \n",
    "        genres_list = []\n",
    "        for genres in frame['Genders']:\n",
    "            if isinstance(genres, str):\n",
    "                for genre in genres.split(','):\n",
    "                    genres_list.append(genre)\n",
    "                    all_genres[genre.strip()] += 1    \n",
    "        if plot:\n",
    "            showWordCloud(all_genres)\n",
    "        \n",
    "        return genres_list\n",
    "\n",
    "    \n",
    "def get_user_preferences(user_id, plot=False, verbose=0):\n",
    "    animes_watched_by_user = rating_df[rating_df.user_id==user_id]\n",
    "    user_rating_percentile = np.percentile(animes_watched_by_user.rating, 75)\n",
    "    animes_watched_by_user = animes_watched_by_user[animes_watched_by_user.rating >= user_rating_percentile]\n",
    "    top_animes_user = (\n",
    "        animes_watched_by_user.sort_values(by=\"rating\", ascending=False)#.head(10)\n",
    "        .anime_id.values\n",
    "    )\n",
    "    \n",
    "    anime_df_rows = df[df[\"anime_id\"].isin(top_animes_user)]\n",
    "    anime_df_rows = anime_df_rows[[\"eng_version\", \"Genders\"]]\n",
    "    \n",
    "    if verbose != 0:\n",
    "        print(\"> User #{} has rated {} movies (avg. rating = {:.1f})\".format(\n",
    "          user_id, len(animes_watched_by_user),\n",
    "          animes_watched_by_user['rating'].mean(),\n",
    "        ))\n",
    "    \n",
    "        print('> preferred genres')\n",
    "    \n",
    "    if plot:\n",
    "        getFavGenre(anime_df_rows, plot)\n",
    "        \n",
    "    return anime_df_rows#.eng_version.values"
   ]
  },
  {
   "cell_type": "code",
   "execution_count": 31,
   "id": "particular-cheat",
   "metadata": {
    "execution": {
     "iopub.execute_input": "2021-06-09T16:01:45.621168Z",
     "iopub.status.busy": "2021-06-09T16:01:45.620130Z",
     "iopub.status.idle": "2021-06-09T16:01:46.159035Z",
     "shell.execute_reply": "2021-06-09T16:01:46.158492Z",
     "shell.execute_reply.started": "2021-06-09T15:50:37.181156Z"
    },
    "papermill": {
     "duration": 1.773868,
     "end_time": "2021-06-09T16:01:46.159178",
     "exception": false,
     "start_time": "2021-06-09T16:01:44.385310",
     "status": "completed"
    },
    "tags": []
   },
   "outputs": [
    {
     "name": "stdout",
     "output_type": "stream",
     "text": [
      "> User #88895 has rated 230 movies (avg. rating = 1.0)\n",
      "> preferred genres\n"
     ]
    },
    {
     "data": {
      "image/png": "[encoded data removed]",
      "text/plain": [
       "<Figure size 720x576 with 1 Axes>"
      ]
     },
     "metadata": {
      "needs_background": "light"
     },
     "output_type": "display_data"
    },
    {
     "name": "stdout",
     "output_type": "stream",
     "text": [
      "> animes highly rated by this user\n"
     ]
    },
    {
     "data": {
      "text/html": [
       "<div>\n",
       "<style scoped>\n",
       "    .dataframe tbody tr th:only-of-type {\n",
       "        vertical-align: middle;\n",
       "    }\n",
       "\n",
       "    .dataframe tbody tr th {\n",
       "        vertical-align: top;\n",
       "    }\n",
       "\n",
       "    .dataframe thead th {\n",
       "        text-align: right;\n",
       "    }\n",
       "</style>\n",
       "<table border=\"1\" class=\"dataframe\">\n",
       "  <thead>\n",
       "    <tr style=\"text-align: right;\">\n",
       "      <th></th>\n",
       "      <th>eng_version</th>\n",
       "      <th>Genders</th>\n",
       "    </tr>\n",
       "  </thead>\n",
       "  <tbody>\n",
       "    <tr>\n",
       "      <th>3971</th>\n",
       "      <td>Fullmetal Alchemist:Brotherhood</td>\n",
       "      <td>Action, Military, Adventure, Comedy, Drama, Magic, Fantasy, Shounen</td>\n",
       "    </tr>\n",
       "    <tr>\n",
       "      <th>5683</th>\n",
       "      <td>Steins;Gate</td>\n",
       "      <td>Thriller, Sci-Fi</td>\n",
       "    </tr>\n",
       "    <tr>\n",
       "      <th>9886</th>\n",
       "      <td>A Silent Voice</td>\n",
       "      <td>Drama, School, Shounen</td>\n",
       "    </tr>\n",
       "    <tr>\n",
       "      <th>11308</th>\n",
       "      <td>Your Name.</td>\n",
       "      <td>Romance, Supernatural, School, Drama</td>\n",
       "    </tr>\n",
       "    <tr>\n",
       "      <th>3537</th>\n",
       "      <td>Clannad ~After Story~</td>\n",
       "      <td>Slice of Life, Comedy, Supernatural, Drama, Romance</td>\n",
       "    </tr>\n",
       "  </tbody>\n",
       "</table>\n",
       "</div>"
      ],
      "text/plain": [
       "                           eng_version  \\\n",
       "3971   Fullmetal Alchemist:Brotherhood   \n",
       "5683                       Steins;Gate   \n",
       "9886                    A Silent Voice   \n",
       "11308                       Your Name.   \n",
       "3537             Clannad ~After Story~   \n",
       "\n",
       "                                                                   Genders  \n",
       "3971   Action, Military, Adventure, Comedy, Drama, Magic, Fantasy, Shounen  \n",
       "5683                                                      Thriller, Sci-Fi  \n",
       "9886                                                Drama, School, Shounen  \n",
       "11308                                 Romance, Supernatural, School, Drama  \n",
       "3537                   Slice of Life, Comedy, Supernatural, Drama, Romance  "
      ]
     },
     "execution_count": 31,
     "metadata": {},
     "output_type": "execute_result"
    }
   ],
   "source": [
    "user_pref = get_user_preferences(random_user, plot=True, verbose=1)\n",
    "print('> animes highly rated by this user')\n",
    "\n",
    "pd.DataFrame(user_pref).head(5)"
   ]
  },
  {
   "cell_type": "markdown",
   "id": "buried-topic",
   "metadata": {
    "papermill": {
     "duration": 1.237793,
     "end_time": "2021-06-09T16:01:48.633240",
     "exception": false,
     "start_time": "2021-06-09T16:01:47.395447",
     "status": "completed"
    },
    "tags": []
   },
   "source": [
    "## **Task 3**: **Recommending** animes for a user"
   ]
  },
  {
   "cell_type": "code",
   "execution_count": 32,
   "id": "qualified-extra",
   "metadata": {
    "execution": {
     "iopub.execute_input": "2021-06-09T16:01:51.139356Z",
     "iopub.status.busy": "2021-06-09T16:01:51.138607Z",
     "iopub.status.idle": "2021-06-09T16:01:51.140459Z",
     "shell.execute_reply": "2021-06-09T16:01:51.140912Z",
     "shell.execute_reply.started": "2021-06-09T15:50:38.214352Z"
    },
    "papermill": {
     "duration": 1.25313,
     "end_time": "2021-06-09T16:01:51.141085",
     "exception": false,
     "start_time": "2021-06-09T16:01:49.887955",
     "status": "completed"
    },
    "tags": []
   },
   "outputs": [],
   "source": [
    "def get_recommended_animes(similar_users, n=10):\n",
    "    recommended_animes = []\n",
    "    anime_list = []\n",
    "    \n",
    "    for user_id in similar_users.similar_users.values:\n",
    "        pref_list = get_user_preferences(int(user_id), verbose=0)\n",
    "        pref_list = pref_list[~ pref_list.eng_version.isin(user_pref.eng_version.values)]\n",
    "        anime_list.append(pref_list.eng_version.values)\n",
    "        \n",
    "    anime_list = pd.DataFrame(anime_list)\n",
    "    sorted_list = pd.DataFrame(pd.Series(anime_list.values.ravel()).value_counts()).head(n)\n",
    "    \n",
    "    for i, anime_name in enumerate(sorted_list.index):        \n",
    "        n_user_pref = sorted_list[sorted_list.index == anime_name].values[0][0]\n",
    "        if isinstance(anime_name, str):\n",
    "            try:\n",
    "                frame = getAnimeFrame(anime_name)\n",
    "                anime_id = frame.anime_id.values[0]\n",
    "                genre = frame.Genders.values[0]\n",
    "                sypnopsis = getSypnopsis(int(anime_id))\n",
    "                recommended_animes.append({#\"anime_id\": anime_id ,\n",
    "                                            \"n\": n_user_pref,\n",
    "                                            \"anime_name\": anime_name, \n",
    "                                            \"Genders\": genre, \n",
    "                                            \"sypnopsis\": sypnopsis})\n",
    "            except:\n",
    "                pass\n",
    "    \n",
    "    return pd.DataFrame(recommended_animes)"
   ]
  },
  {
   "cell_type": "code",
   "execution_count": 33,
   "id": "critical-reservation",
   "metadata": {
    "execution": {
     "iopub.execute_input": "2021-06-09T16:01:53.690436Z",
     "iopub.status.busy": "2021-06-09T16:01:53.689338Z",
     "iopub.status.idle": "2021-06-09T16:01:54.437779Z",
     "shell.execute_reply": "2021-06-09T16:01:54.438287Z",
     "shell.execute_reply.started": "2021-06-09T15:50:38.506306Z"
    },
    "papermill": {
     "duration": 2.007762,
     "end_time": "2021-06-09T16:01:54.438460",
     "exception": false,
     "start_time": "2021-06-09T16:01:52.430698",
     "status": "completed"
    },
    "tags": []
   },
   "outputs": [
    {
     "data": {
      "image/png": "[encoded data removed]",
      "text/plain": [
       "<Figure size 720x576 with 1 Axes>"
      ]
     },
     "metadata": {
      "needs_background": "light"
     },
     "output_type": "display_data"
    },
    {
     "name": "stdout",
     "output_type": "stream",
     "text": [
      "\n",
      "> Top recommendations for user: 88895\n"
     ]
    },
    {
     "data": {
      "text/html": [
       "<div>\n",
       "<style scoped>\n",
       "    .dataframe tbody tr th:only-of-type {\n",
       "        vertical-align: middle;\n",
       "    }\n",
       "\n",
       "    .dataframe tbody tr th {\n",
       "        vertical-align: top;\n",
       "    }\n",
       "\n",
       "    .dataframe thead th {\n",
       "        text-align: right;\n",
       "    }\n",
       "</style>\n",
       "<table border=\"1\" class=\"dataframe\">\n",
       "  <thead>\n",
       "    <tr style=\"text-align: right;\">\n",
       "      <th></th>\n",
       "      <th>n</th>\n",
       "      <th>anime_name</th>\n",
       "      <th>Genders</th>\n",
       "      <th>sypnopsis</th>\n",
       "    </tr>\n",
       "  </thead>\n",
       "  <tbody>\n",
       "    <tr>\n",
       "      <th>0</th>\n",
       "      <td>8</td>\n",
       "      <td>Bakuman.</td>\n",
       "      <td>Comedy, Drama, Romance, Shounen</td>\n",
       "      <td>Onto their third serialization, manga duo Moritaka Mashiro and Akito Takagi—also known by their pen name, Muto Ashirogi—are ever closer to their dream of an anime adaption. However, the real challenge is only just beginning: if they are unable to compete with the artist Eiji Niizuma in the rankings within the span of six months, they will be canceled. To top it off, numerous rivals are close behind and declaring war. They don't even have enough time to spare thinking about an anime! In Bakuman. 3rd Season , Muto Ashirogi must find a way to stay atop the colossal mountain known as the Shounen Jack rankings. With new problems and new assistants, the pair continue to strive for their dream.</td>\n",
       "    </tr>\n",
       "    <tr>\n",
       "      <th>1</th>\n",
       "      <td>8</td>\n",
       "      <td>GATE</td>\n",
       "      <td>Action, Military, Adventure, Fantasy</td>\n",
       "      <td>Several months have passed since the infamous Ginza Incident, with tensions between the Empire and JSDF escalating in the vast and mysterious \"Special Region\" over peace negotiations. The greed and curiosity of the global powers have also begun to grow, as reports about the technological limitations of the magical realm's archaic civilizations come to light. Meanwhile, Lieutenant Youji Itami and his merry band of female admirers struggle to navigate the complex political intrigue that plagues the Empire's court. Despite her best efforts, Princess Piña Co Lada faces difficulties attempting to convince her father that the JSDF has no intention of conquering their kingdom. Pressured from both sides of the Gate, Itami must consider even more drastic measures to fulfill his mission.</td>\n",
       "    </tr>\n",
       "    <tr>\n",
       "      <th>2</th>\n",
       "      <td>5</td>\n",
       "      <td>Nura:Rise of the Yokai Clan - Demon Capital</td>\n",
       "      <td>Action, Demons, Shounen, Supernatural</td>\n",
       "      <td>ong before Rikuo Nura was born, the legendary youkai Nurarihyon, leader of a \"Night Parade of One Hundred Demons,\" fell in love with a human woman. Though the two would initially find happiness, a threat from the terrifying fox-demon Hagoromo Gitsune would get in the way of their relationship. In the present, Rikuo has taken his rightful place as the heir to the Nura Clan. While he has accepted his youkai side, he must continue to maintain the secret of youkai, a difficult task when faced with the Keikain onmyouji clan and his youkai-obsessed friend, Kiyotsugu. Even so, Rikuo will do what he must to protect those important to him. The reappearance of the sinister Hagoromo Gitsune marks the start of Rikuo's most fearsome trial yet. The frightening creature bears a personal vendetta against his family and will stop at nothing to see her dream come to fruition. The world stands at a precipice, an all-out war that will drag Rikuo centerstage.</td>\n",
       "    </tr>\n",
       "    <tr>\n",
       "      <th>3</th>\n",
       "      <td>5</td>\n",
       "      <td>Death Note</td>\n",
       "      <td>Mystery, Police, Psychological, Supernatural, Thriller, Shounen</td>\n",
       "      <td>shinigami, as a god of death, can kill any person—provided they see their victim's face and write their victim's name in a notebook called a Death Note. One day, Ryuk, bored by the shinigami lifestyle and interested in seeing how a human would use a Death Note, drops one into the human realm. High school student and prodigy Light Yagami stumbles upon the Death Note and—since he deplores the state of the world—tests the deadly notebook by writing a criminal's name in it. When the criminal dies immediately following his experiment with the Death Note, Light is greatly surprised and quickly recognizes how devastating the power that has fallen into his hands could be. With this divine capability, Light decides to extinguish all criminals in order to build a new world where crime does not exist and people worship him as a god. Police, however, quickly discover that a serial killer is targeting criminals and, consequently, try to apprehend the culprit. To do this, the Japanese investigators count on the assistance of the best detective in the world: a young and eccentric man known only by the name of L.</td>\n",
       "    </tr>\n",
       "    <tr>\n",
       "      <th>4</th>\n",
       "      <td>4</td>\n",
       "      <td>Fate/Zero Season 2</td>\n",
       "      <td>Action, Supernatural, Magic, Fantasy</td>\n",
       "      <td>s the Fourth Holy Grail War rages on with no clear victor in sight, the remaining Servants and their Masters are called upon by Church supervisor Risei Kotomine, in order to band together and confront an impending threat that could unravel the Grail War and bring about the destruction of Fuyuki City. The uneasy truce soon collapses as Masters demonstrate that they will do anything in their power, no matter how despicable, to win. Seeds of doubt are sown between Kiritsugu Emiya and Saber, his Servant, as their conflicting ideologies on heroism and chivalry clash. Meanwhile, an ominous bond forms between Kirei Kotomine, who still seeks to find his purpose in life, and one of the remaining Servants. As the countdown to the end of the war reaches zero, the cost of winning begins to blur the line between victory and defeat.</td>\n",
       "    </tr>\n",
       "    <tr>\n",
       "      <th>5</th>\n",
       "      <td>4</td>\n",
       "      <td>Fate/stay night [Unlimited Blade Works]</td>\n",
       "      <td>Action, Fantasy, Magic, Supernatural</td>\n",
       "      <td>The Holy Grail War is a battle royale among seven magi who serve as Masters. Masters, through the use of the command seals they are given when they enter the war, command Heroic Spirits known as Servants to fight for them in battle. In the Fifth Holy Grail War, Rin Toosaka is among the magi entering the competition. With her Servant, Archer, she hopes to obtain the ultimate prize—the Holy Grail, a magical artifact capable of granting its wielder any wish. One of Rin's classmates, Emiya Shirou, accidentally enters the competition and ends up commanding a Servant of his own known as Saber. As they find themselves facing mutual enemies, Rin and Shirou decide to form a temporary alliance as they challenge their opponents in the Holy Grail War.</td>\n",
       "    </tr>\n",
       "    <tr>\n",
       "      <th>6</th>\n",
       "      <td>4</td>\n",
       "      <td>Fate/stay night [Unlimited Blade Works] Season 2</td>\n",
       "      <td>Action, Fantasy, Magic, Supernatural</td>\n",
       "      <td>In the midst of the Fifth Holy Grail War, Caster sets her plans into motion, beginning with the capture of Shirou's Servant Saber. With the witch growing ever more powerful, Rin and Archer determine she is a threat that must be dealt with at once. But as the balance of power in the war begins to shift, the Master and Servant find themselves walking separate ways. Meanwhile, despite losing his Servant and stumbling from injuries, Shirou ignores Rin's warning to abandon the battle royale, forcing his way into the fight against Caster. Determined to show his resolve in his will to fight, Shirou's potential to become a protector of the people is put to the test. Amidst the bloodshed and chaos, the motivations of each Master and Servant are slowly revealed as they sacrifice everything in order to arise as the victor and claim the Holy Grail.</td>\n",
       "    </tr>\n",
       "    <tr>\n",
       "      <th>7</th>\n",
       "      <td>4</td>\n",
       "      <td>JoJo's Bizarre Adventure</td>\n",
       "      <td>Action, Adventure, Supernatural, Vampire, Shounen</td>\n",
       "      <td>In 1868, Dario Brando saves the life of an English nobleman, George Joestar. By taking in Dario's son Dio when the boy becomes fatherless, George hopes to repay the debt he owes to his savior. However Dio, unsatisfied with his station in life, aspires to seize the Joestar house for his own. Wielding an Aztec stone mask with supernatural properties, he sets out to destroy George and his son, Jonathan \"JoJo\" Joestar, and triggers a chain of events that will continue to echo through the years to come. Half a century later, in New York City, Jonathan's grandson Joseph Joestar discovers the legacy his grandfather left for him. When an archeological dig unearths the truth behind the stone mask, he realizes that he is the only one who can defeat the Pillar Men, mystical beings of immeasurable power who inadvertently began everything. Adapted from the first two arcs of Hirohiko Araki's outlandish manga series, JoJo no Kimyou na Bouken follows the many thrilling expeditions of JoJo and his descendants. Whether it's facing off with the evil Dio, or combatting the sinister Pillar Men, there's always plenty of bizarre adventures in store.</td>\n",
       "    </tr>\n",
       "    <tr>\n",
       "      <th>8</th>\n",
       "      <td>4</td>\n",
       "      <td>JoJo's Bizarre Adventure:Stardust Crusaders - Battle in Egypt</td>\n",
       "      <td>Action, Adventure, Supernatural, Drama, Shounen</td>\n",
       "      <td>Joutarou Kuujou and his allies have finally made it to Egypt, where the immortal Dio awaits. Upon their arrival, the group gains a new comrade: Iggy, a mutt who wields the Stand \"The Fool.\" It's not all good news however, as standing in their path is a new group of Stand users who serve Dio, each with a Stand representative of an ancient Egyptian god. As their final battle approaches, it is a race against time to break Joutarou's mother free from her curse and end Dio's reign of terror over the Joestar family once and for all.</td>\n",
       "    </tr>\n",
       "    <tr>\n",
       "      <th>9</th>\n",
       "      <td>4</td>\n",
       "      <td>Monster</td>\n",
       "      <td>Drama, Horror, Mystery, Police, Psychological, Seinen, Thriller</td>\n",
       "      <td>Dr. Kenzou Tenma, an elite neurosurgeon recently engaged to his hospital director's daughter, is well on his way to ascending the hospital hierarchy. That is until one night, a seemingly small event changes Dr. Tenma's life forever. While preparing to perform surgery on someone, he gets a call from the hospital director telling him to switch patients and instead perform life-saving brain surgery on a famous performer. His fellow doctors, fiancée, and the hospital director applaud his accomplishment; but because of the switch, a poor immigrant worker is dead, causing Dr. Tenma to have a crisis of conscience. So when a similar situation arises, Dr. Tenma stands his ground and chooses to perform surgery on the young boy Johan Liebert instead of the town's mayor. Unfortunately, this choice leads to serious ramifications for Dr. Tenma—losing his social standing being one of them. However, with the mysterious death of the director and two other doctors, Dr. Tenma's position is restored. With no evidence to convict him, he is released and goes on to attain the position of hospital director. Nine years later when Dr. Tenma saves the life of a criminal, his past comes back to haunt him—once again, he comes face to face with the monster he operated on. He must now embark on a quest of pursuit to make amends for the havoc spread by the one he saved.</td>\n",
       "    </tr>\n",
       "  </tbody>\n",
       "</table>\n",
       "</div>"
      ],
      "text/plain": [
       "   n                                                     anime_name  \\\n",
       "0  8                                                       Bakuman.   \n",
       "1  8                                                           GATE   \n",
       "2  5                    Nura:Rise of the Yokai Clan - Demon Capital   \n",
       "3  5                                                     Death Note   \n",
       "4  4                                             Fate/Zero Season 2   \n",
       "5  4                        Fate/stay night [Unlimited Blade Works]   \n",
       "6  4               Fate/stay night [Unlimited Blade Works] Season 2   \n",
       "7  4                                       JoJo's Bizarre Adventure   \n",
       "8  4  JoJo's Bizarre Adventure:Stardust Crusaders - Battle in Egypt   \n",
       "9  4                                                        Monster   \n",
       "\n",
       "                                                           Genders  \\\n",
       "0                                  Comedy, Drama, Romance, Shounen   \n",
       "1                             Action, Military, Adventure, Fantasy   \n",
       "2                            Action, Demons, Shounen, Supernatural   \n",
       "3  Mystery, Police, Psychological, Supernatural, Thriller, Shounen   \n",
       "4                             Action, Supernatural, Magic, Fantasy   \n",
       "5                             Action, Fantasy, Magic, Supernatural   \n",
       "6                             Action, Fantasy, Magic, Supernatural   \n",
       "7                Action, Adventure, Supernatural, Vampire, Shounen   \n",
       "8                  Action, Adventure, Supernatural, Drama, Shounen   \n",
       "9  Drama, Horror, Mystery, Police, Psychological, Seinen, Thriller   \n",
       "\n",
       "                                                                                                                                                                                                                                                                                                                                                                                                                                                                                                                                                                                                                                                                                                                                                                                                                                                                                                                                                                                                                                                                                                                                                                                                                                                                                                                                                                                                          sypnopsis  \n",
       "0                                                                                                                                                                                                                                                                                                                                                                                                                                                                                                                                                                                                                                                                                          Onto their third serialization, manga duo Moritaka Mashiro and Akito Takagi—also known by their pen name, Muto Ashirogi—are ever closer to their dream of an anime adaption. However, the real challenge is only just beginning: if they are unable to compete with the artist Eiji Niizuma in the rankings within the span of six months, they will be canceled. To top it off, numerous rivals are close behind and declaring war. They don't even have enough time to spare thinking about an anime! In Bakuman. 3rd Season , Muto Ashirogi must find a way to stay atop the colossal mountain known as the Shounen Jack rankings. With new problems and new assistants, the pair continue to strive for their dream.  \n",
       "1                                                                                                                                                                                                                                                                                                                                                                                                                                                                                                                                                                                              Several months have passed since the infamous Ginza Incident, with tensions between the Empire and JSDF escalating in the vast and mysterious \"Special Region\" over peace negotiations. The greed and curiosity of the global powers have also begun to grow, as reports about the technological limitations of the magical realm's archaic civilizations come to light. Meanwhile, Lieutenant Youji Itami and his merry band of female admirers struggle to navigate the complex political intrigue that plagues the Empire's court. Despite her best efforts, Princess Piña Co Lada faces difficulties attempting to convince her father that the JSDF has no intention of conquering their kingdom. Pressured from both sides of the Gate, Itami must consider even more drastic measures to fulfill his mission.  \n",
       "2                                                                                                                                                                                                                                                                                                                                                                                                                          ong before Rikuo Nura was born, the legendary youkai Nurarihyon, leader of a \"Night Parade of One Hundred Demons,\" fell in love with a human woman. Though the two would initially find happiness, a threat from the terrifying fox-demon Hagoromo Gitsune would get in the way of their relationship. In the present, Rikuo has taken his rightful place as the heir to the Nura Clan. While he has accepted his youkai side, he must continue to maintain the secret of youkai, a difficult task when faced with the Keikain onmyouji clan and his youkai-obsessed friend, Kiyotsugu. Even so, Rikuo will do what he must to protect those important to him. The reappearance of the sinister Hagoromo Gitsune marks the start of Rikuo's most fearsome trial yet. The frightening creature bears a personal vendetta against his family and will stop at nothing to see her dream come to fruition. The world stands at a precipice, an all-out war that will drag Rikuo centerstage.  \n",
       "3                                                                                                                                                                                                                                                        shinigami, as a god of death, can kill any person—provided they see their victim's face and write their victim's name in a notebook called a Death Note. One day, Ryuk, bored by the shinigami lifestyle and interested in seeing how a human would use a Death Note, drops one into the human realm. High school student and prodigy Light Yagami stumbles upon the Death Note and—since he deplores the state of the world—tests the deadly notebook by writing a criminal's name in it. When the criminal dies immediately following his experiment with the Death Note, Light is greatly surprised and quickly recognizes how devastating the power that has fallen into his hands could be. With this divine capability, Light decides to extinguish all criminals in order to build a new world where crime does not exist and people worship him as a god. Police, however, quickly discover that a serial killer is targeting criminals and, consequently, try to apprehend the culprit. To do this, the Japanese investigators count on the assistance of the best detective in the world: a young and eccentric man known only by the name of L.  \n",
       "4                                                                                                                                                                                                                                                                                                                                                                                                                                                                                                                                                    s the Fourth Holy Grail War rages on with no clear victor in sight, the remaining Servants and their Masters are called upon by Church supervisor Risei Kotomine, in order to band together and confront an impending threat that could unravel the Grail War and bring about the destruction of Fuyuki City. The uneasy truce soon collapses as Masters demonstrate that they will do anything in their power, no matter how despicable, to win. Seeds of doubt are sown between Kiritsugu Emiya and Saber, his Servant, as their conflicting ideologies on heroism and chivalry clash. Meanwhile, an ominous bond forms between Kirei Kotomine, who still seeks to find his purpose in life, and one of the remaining Servants. As the countdown to the end of the war reaches zero, the cost of winning begins to blur the line between victory and defeat.  \n",
       "5                                                                                                                                                                                                                                                                                                                                                                                                                                                                                                                                                                                                                                     The Holy Grail War is a battle royale among seven magi who serve as Masters. Masters, through the use of the command seals they are given when they enter the war, command Heroic Spirits known as Servants to fight for them in battle. In the Fifth Holy Grail War, Rin Toosaka is among the magi entering the competition. With her Servant, Archer, she hopes to obtain the ultimate prize—the Holy Grail, a magical artifact capable of granting its wielder any wish. One of Rin's classmates, Emiya Shirou, accidentally enters the competition and ends up commanding a Servant of his own known as Saber. As they find themselves facing mutual enemies, Rin and Shirou decide to form a temporary alliance as they challenge their opponents in the Holy Grail War.  \n",
       "6                                                                                                                                                                                                                                                                                                                                                                                                                                                                                                                                  In the midst of the Fifth Holy Grail War, Caster sets her plans into motion, beginning with the capture of Shirou's Servant Saber. With the witch growing ever more powerful, Rin and Archer determine she is a threat that must be dealt with at once. But as the balance of power in the war begins to shift, the Master and Servant find themselves walking separate ways. Meanwhile, despite losing his Servant and stumbling from injuries, Shirou ignores Rin's warning to abandon the battle royale, forcing his way into the fight against Caster. Determined to show his resolve in his will to fight, Shirou's potential to become a protector of the people is put to the test. Amidst the bloodshed and chaos, the motivations of each Master and Servant are slowly revealed as they sacrifice everything in order to arise as the victor and claim the Holy Grail.  \n",
       "7                                                                                                                                                                                                                          In 1868, Dario Brando saves the life of an English nobleman, George Joestar. By taking in Dario's son Dio when the boy becomes fatherless, George hopes to repay the debt he owes to his savior. However Dio, unsatisfied with his station in life, aspires to seize the Joestar house for his own. Wielding an Aztec stone mask with supernatural properties, he sets out to destroy George and his son, Jonathan \"JoJo\" Joestar, and triggers a chain of events that will continue to echo through the years to come. Half a century later, in New York City, Jonathan's grandson Joseph Joestar discovers the legacy his grandfather left for him. When an archeological dig unearths the truth behind the stone mask, he realizes that he is the only one who can defeat the Pillar Men, mystical beings of immeasurable power who inadvertently began everything. Adapted from the first two arcs of Hirohiko Araki's outlandish manga series, JoJo no Kimyou na Bouken follows the many thrilling expeditions of JoJo and his descendants. Whether it's facing off with the evil Dio, or combatting the sinister Pillar Men, there's always plenty of bizarre adventures in store.  \n",
       "8                                                                                                                                                                                                                                                                                                                                                                                                                                                                                                                                                                                                                                                                                                                                                                                                                                                              Joutarou Kuujou and his allies have finally made it to Egypt, where the immortal Dio awaits. Upon their arrival, the group gains a new comrade: Iggy, a mutt who wields the Stand \"The Fool.\" It's not all good news however, as standing in their path is a new group of Stand users who serve Dio, each with a Stand representative of an ancient Egyptian god. As their final battle approaches, it is a race against time to break Joutarou's mother free from her curse and end Dio's reign of terror over the Joestar family once and for all.  \n",
       "9  Dr. Kenzou Tenma, an elite neurosurgeon recently engaged to his hospital director's daughter, is well on his way to ascending the hospital hierarchy. That is until one night, a seemingly small event changes Dr. Tenma's life forever. While preparing to perform surgery on someone, he gets a call from the hospital director telling him to switch patients and instead perform life-saving brain surgery on a famous performer. His fellow doctors, fiancée, and the hospital director applaud his accomplishment; but because of the switch, a poor immigrant worker is dead, causing Dr. Tenma to have a crisis of conscience. So when a similar situation arises, Dr. Tenma stands his ground and chooses to perform surgery on the young boy Johan Liebert instead of the town's mayor. Unfortunately, this choice leads to serious ramifications for Dr. Tenma—losing his social standing being one of them. However, with the mysterious death of the director and two other doctors, Dr. Tenma's position is restored. With no evidence to convict him, he is released and goes on to attain the position of hospital director. Nine years later when Dr. Tenma saves the life of a criminal, his past comes back to haunt him—once again, he comes face to face with the monster he operated on. He must now embark on a quest of pursuit to make amends for the havoc spread by the one he saved.  "
      ]
     },
     "execution_count": 33,
     "metadata": {},
     "output_type": "execute_result"
    }
   ],
   "source": [
    "recommended_animes = get_recommended_animes(similar_users, n=10)\n",
    "getFavGenre(recommended_animes, plot=True)\n",
    "\n",
    "print('\\n> Top recommendations for user: {}'.format(random_user))\n",
    "recommended_animes"
   ]
  },
  {
   "cell_type": "markdown",
   "id": "fuzzy-organization",
   "metadata": {
    "papermill": {
     "duration": 1.234548,
     "end_time": "2021-06-09T16:01:56.912856",
     "exception": false,
     "start_time": "2021-06-09T16:01:55.678308",
     "status": "completed"
    },
    "tags": []
   },
   "source": [
    "## **Ranking based Recommendation**"
   ]
  },
  {
   "cell_type": "code",
   "execution_count": 34,
   "id": "encouraging-worth",
   "metadata": {
    "execution": {
     "iopub.execute_input": "2021-06-09T16:01:59.405340Z",
     "iopub.status.busy": "2021-06-09T16:01:59.404337Z",
     "iopub.status.idle": "2021-06-09T16:02:03.646944Z",
     "shell.execute_reply": "2021-06-09T16:02:03.646400Z",
     "shell.execute_reply.started": "2021-06-09T15:50:39.409798Z"
    },
    "papermill": {
     "duration": 5.491509,
     "end_time": "2021-06-09T16:02:03.647253",
     "exception": false,
     "start_time": "2021-06-09T16:01:58.155744",
     "status": "completed"
    },
    "tags": []
   },
   "outputs": [
    {
     "name": "stdout",
     "output_type": "stream",
     "text": [
      "Showing recommendations for user: 88895\n",
      "===========================================================================\n",
      "---------------------------------------------------------------------------\n",
      "> Top 10 anime recommendations\n",
      "---------------------------------------------------------------------------\n"
     ]
    },
    {
     "data": {
      "text/html": [
       "<div>\n",
       "<style scoped>\n",
       "    .dataframe tbody tr th:only-of-type {\n",
       "        vertical-align: middle;\n",
       "    }\n",
       "\n",
       "    .dataframe tbody tr th {\n",
       "        vertical-align: top;\n",
       "    }\n",
       "\n",
       "    .dataframe thead th {\n",
       "        text-align: right;\n",
       "    }\n",
       "</style>\n",
       "<table border=\"1\" class=\"dataframe\">\n",
       "  <thead>\n",
       "    <tr style=\"text-align: right;\">\n",
       "      <th></th>\n",
       "      <th>name</th>\n",
       "      <th>pred_rating</th>\n",
       "      <th>genre</th>\n",
       "      <th>sypnopsis</th>\n",
       "    </tr>\n",
       "  </thead>\n",
       "  <tbody>\n",
       "    <tr>\n",
       "      <th>2</th>\n",
       "      <td>Shelter</td>\n",
       "      <td>0.948841</td>\n",
       "      <td>Sci-Fi, Music</td>\n",
       "      <td>Day 2539: Rin wakes up alone again with blurred memories and still no contact from any other human. She's not bored, however, because in her arms lies a tablet capable of creating any world her heart desires. Day after day, Rin crafts a wonderful reality—one utopia at a time—to shelter her from loneliness, hoping to one day reveal the truth behind her very existence.</td>\n",
       "    </tr>\n",
       "    <tr>\n",
       "      <th>6</th>\n",
       "      <td>Uchuu Kazoku Carlvinson</td>\n",
       "      <td>0.937138</td>\n",
       "      <td>Comedy, Fantasy, Sci-Fi</td>\n",
       "      <td>hen a motley band of travelling performers has a deep-space collision with another spacecraft, they find that the sole survivor of the other craft is a humanoid infant. They decide to raise the child as their own on the nearest planet as they wait for other members of the girl's race to come and find her. (Source: AniDB)</td>\n",
       "    </tr>\n",
       "    <tr>\n",
       "      <th>1</th>\n",
       "      <td>Whisper of the Heart</td>\n",
       "      <td>0.930444</td>\n",
       "      <td>Slice of Life, Drama, Romance, Shoujo</td>\n",
       "      <td>Shizuku Tsukishima is an energetic 14-year-old girl who enjoys reading and writing poetry in her free time. Glancing at the checkout cards of her books one evening, she notices that her library books are frequently checked out by a boy named Seiji Amasawa. Curiosity strikes Shizuku, and she decides to search for the boy who shares her love for literature. Meeting a peculiar cat on the train, Shizuku follows the animal and is eventually led to a quaint antique shop, where she learns about a cat statuette known as \"The Baron.\" Taking an interest in the shop, she surprisingly finds Seiji, and the two quickly befriend one another. Shizuku learns while acquainting herself with Seiji that he has a dream that he would like to fulfill, causing her dismay as she remains uncertain of her future and has yet to recognize her talents. However, as her relationship with Seiji grows, Shizuku becomes determined to work toward a goal. Guided by the whispers of her heart and inspiration from The Baron, she resolves to carve out her own potential and dreams.</td>\n",
       "    </tr>\n",
       "    <tr>\n",
       "      <th>0</th>\n",
       "      <td>Now and Then, Here and There</td>\n",
       "      <td>0.927248</td>\n",
       "      <td>Adventure, Drama, Fantasy, Military, Sci-Fi</td>\n",
       "      <td>Shuuzou ''Shuu'' Matsutani lives his ordinary life in peace. He has friends, a crush, and a passion for kendo. Dejected after losing to his kendo rival, Shuu climbs a smokestack to watch the sunset where he finds Lala-Ru, a quiet, blue-haired girl wearing a strange pendant. Shuu attempts to befriend her, despite her uninterested, bland responses. However, his hopes are crushed when a woman, accompanied by two serpentine machines, appear out of thin air with one goal in mind: capture Lala-Ru. Shuu, bull-headed as he is, tries to save his new friend from her kidnappers and is transported to a desert world, unlike anything he has ever seen before. Yet, despite the circumstances, Shuu only thinks of saving Lala-Ru, until he is thoroughly beaten up by some soldiers. As he soon finds out, Lala-Ru can manipulate water and her pendant is the source from which she is able to bring forth the liquid, a scarce commodity in his new environment. But now, the pendant is lost, and Shuu is the prime suspect. Ima, Soko ni Iru Boku is the haunting story of a dystopian world, and of Shuu, who has to endure torture, hunger, and the horrors of war in order to save the lonely girl he found sitting atop a smokestack.</td>\n",
       "    </tr>\n",
       "    <tr>\n",
       "      <th>4</th>\n",
       "      <td>DARLING in the FRANXX</td>\n",
       "      <td>0.922429</td>\n",
       "      <td>Action, Drama, Mecha, Romance, Sci-Fi</td>\n",
       "      <td>In the distant future, humanity has been driven to near-extinction by giant beasts known as Klaxosaurs, forcing the surviving humans to take refuge in massive fortress cities called Plantations. Children raised here are trained to pilot giant mechas known as FranXX—the only weapons known to be effective against the Klaxosaurs—in boy-girl pairs. Bred for the sole purpose of piloting these machines, these children know nothing of the outside world and are only able to prove their existence by defending their race. Hiro, an aspiring FranXX pilot, has lost his motivation and self-confidence after failing an aptitude test. Skipping out on his class' graduation ceremony, Hiro retreats to a forest lake, where he encounters a mysterious girl with two horns growing out of her head. She introduces herself by her codename Zero Two, which is known to belong to an infamous FranXX pilot known as the \"Partner Killer.\" Before Hiro can digest the encounter, the Plantation is rocked by a sudden Klaxosaur attack. Zero Two engages the creature in her FranXX, but it is heavily damaged in the skirmish and crashes near Hiro. Finding her partner dead, Zero Two invites Hiro to pilot the mecha with her, and the duo easily defeats the Klaxosaur in the ensuing fight. With a new partner by his side, Hiro has been given a chance at redemption for his past failures, but at what cost?</td>\n",
       "    </tr>\n",
       "    <tr>\n",
       "      <th>5</th>\n",
       "      <td>Fireball</td>\n",
       "      <td>0.919985</td>\n",
       "      <td>Comedy, Sci-Fi</td>\n",
       "      <td>Fireball takes place during the war between humans and robots. There is no real story, just individual episode skits.</td>\n",
       "    </tr>\n",
       "    <tr>\n",
       "      <th>7</th>\n",
       "      <td>Demon Slayer:Kimetsu no Yaiba</td>\n",
       "      <td>0.917159</td>\n",
       "      <td>Action, Demons, Historical, Shounen, Supernatural</td>\n",
       "      <td>Ever since the death of his father, the burden of supporting the family has fallen upon Tanjirou Kamado's shoulders. Though living impoverished on a remote mountain, the Kamado family are able to enjoy a relatively peaceful and happy life. One day, Tanjirou decides to go down to the local village to make a little money selling charcoal. On his way back, night falls, forcing Tanjirou to take shelter in the house of a strange man, who warns him of the existence of flesh-eating demons that lurk in the woods at night. When he finally arrives back home the next day, he is met with a horrifying sight—his whole family has been slaughtered. Worse still, the sole survivor is his sister Nezuko, who has been turned into a bloodthirsty demon. Consumed by rage and hatred, Tanjirou swears to avenge his family and stay by his only remaining sibling. Alongside the mysterious group calling themselves the Demon Slayer Corps, Tanjirou will do whatever it takes to slay the demons and protect the remnants of his beloved sister's humanity.</td>\n",
       "    </tr>\n",
       "    <tr>\n",
       "      <th>3</th>\n",
       "      <td>Living for the Day After Tomorrow</td>\n",
       "      <td>0.916805</td>\n",
       "      <td>Supernatural, Drama</td>\n",
       "      <td>out to enter junior high school, Karada Iokawa is a cheerful and reliable girl, who hates being treated as a child more than anything. After her parents' deaths, her older brother, Hiro, comes back from studying abroad to take care of her. His ex-girlfriend Shouko Nogami, a composed yet sometimes childish and stubborn young woman, follows him to Japan in order to find out why he left her. Between the two girls, the atmosphere is tense, which eventually leads to Shouko calling Karada childish. Later, Karada stands before a shrine praying to grow up. Little does she know that the shrine wishing stone would grant her wish. As Karada grows older, at the same time, Shouko, who happens to be nearby, finds herself a child once again. With their ages now reversed, Shouko and Karada must come to terms with one another and ultimately themselves.</td>\n",
       "    </tr>\n",
       "    <tr>\n",
       "      <th>8</th>\n",
       "      <td>Deadman Wonderland</td>\n",
       "      <td>0.915402</td>\n",
       "      <td>Action, Horror, Sci-Fi, Shounen, Supernatural</td>\n",
       "      <td>It looked like it would be a normal day for Ganta Igarashi and his classmates—they were preparing to go on a class field trip to a certain prison amusement park called Deadman Wonderland, where the convicts perform dangerous acts for the onlookers' amusement. However, Ganta's life is quickly turned upside down when his whole class gets massacred by a mysterious man in red. Framed for the incident and sentenced to death, Ganta is sent to the very jail he was supposed to visit. But Ganta's nightmare is only just beginning. The young protagonist is thrown into a world of sadistic inmates and enigmatic powers, to live in constant fear of the lethal collar placed around his neck that is slowed only by winning in the prison's deathly games. Ganta must bet his life to survive in a ruthless place where it isn't always easy to tell friend from foe, all while trying to find the mysterious \"Red Man\" and clear his name, in Deadman Wonderland .</td>\n",
       "    </tr>\n",
       "    <tr>\n",
       "      <th>9</th>\n",
       "      <td>KonoSuba:God's Blessing on This Wonderful World!</td>\n",
       "      <td>0.915277</td>\n",
       "      <td>Adventure, Comedy, Fantasy, Magic, Parody, Supernatural</td>\n",
       "      <td>fter dying a laughable and pathetic death on his way back from buying a game, high school student and recluse Kazuma Satou finds himself sitting before a beautiful but obnoxious goddess named Aqua. She provides the NEET with two options: continue on to heaven or reincarnate in every gamer's dream—a real fantasy world! Choosing to start a new life, Kazuma is quickly tasked with defeating a Demon King who is terrorizing villages. But before he goes, he can choose one item of any kind to aid him in his quest, and the future hero selects Aqua. But Kazuma has made a grave mistake—Aqua is completely useless! Unfortunately, their troubles don't end here; it turns out that living in such a world is far different from how it plays out in a game. Instead of going on a thrilling adventure, the duo must first work to pay for their living expenses. Indeed, their misfortunes have only just begun!</td>\n",
       "    </tr>\n",
       "  </tbody>\n",
       "</table>\n",
       "</div>"
      ],
      "text/plain": [
       "                                               name  pred_rating  \\\n",
       "2                                           Shelter     0.948841   \n",
       "6                           Uchuu Kazoku Carlvinson     0.937138   \n",
       "1                              Whisper of the Heart     0.930444   \n",
       "0                      Now and Then, Here and There     0.927248   \n",
       "4                             DARLING in the FRANXX     0.922429   \n",
       "5                                          Fireball     0.919985   \n",
       "7                     Demon Slayer:Kimetsu no Yaiba     0.917159   \n",
       "3                 Living for the Day After Tomorrow     0.916805   \n",
       "8                                Deadman Wonderland     0.915402   \n",
       "9  KonoSuba:God's Blessing on This Wonderful World!     0.915277   \n",
       "\n",
       "                                                     genre  \\\n",
       "2                                            Sci-Fi, Music   \n",
       "6                                  Comedy, Fantasy, Sci-Fi   \n",
       "1                    Slice of Life, Drama, Romance, Shoujo   \n",
       "0              Adventure, Drama, Fantasy, Military, Sci-Fi   \n",
       "4                    Action, Drama, Mecha, Romance, Sci-Fi   \n",
       "5                                           Comedy, Sci-Fi   \n",
       "7        Action, Demons, Historical, Shounen, Supernatural   \n",
       "3                                      Supernatural, Drama   \n",
       "8            Action, Horror, Sci-Fi, Shounen, Supernatural   \n",
       "9  Adventure, Comedy, Fantasy, Magic, Parody, Supernatural   \n",
       "\n",
       "                                                                                                                                                                                                                                                                                                                                                                                                                                                                                                                                                                                                                                                                                                                                                                                                                                                                                                                                                                                                                                                                                                                                                                                                                                                                                                                                                                                                                         sypnopsis  \n",
       "2                                                                                                                                                                                                                                                                                                                                                                                                                                                                                                                                                                                                                                                                                                                                                                                                                                                                                                                                                                                                                                                Day 2539: Rin wakes up alone again with blurred memories and still no contact from any other human. She's not bored, however, because in her arms lies a tablet capable of creating any world her heart desires. Day after day, Rin crafts a wonderful reality—one utopia at a time—to shelter her from loneliness, hoping to one day reveal the truth behind her very existence.  \n",
       "6                                                                                                                                                                                                                                                                                                                                                                                                                                                                                                                                                                                                                                                                                                                                                                                                                                                                                                                                                                                                                                                                                               hen a motley band of travelling performers has a deep-space collision with another spacecraft, they find that the sole survivor of the other craft is a humanoid infant. They decide to raise the child as their own on the nearest planet as they wait for other members of the girl's race to come and find her. (Source: AniDB)  \n",
       "1                                                                                                                                                                                                                                                                                                                                   Shizuku Tsukishima is an energetic 14-year-old girl who enjoys reading and writing poetry in her free time. Glancing at the checkout cards of her books one evening, she notices that her library books are frequently checked out by a boy named Seiji Amasawa. Curiosity strikes Shizuku, and she decides to search for the boy who shares her love for literature. Meeting a peculiar cat on the train, Shizuku follows the animal and is eventually led to a quaint antique shop, where she learns about a cat statuette known as \"The Baron.\" Taking an interest in the shop, she surprisingly finds Seiji, and the two quickly befriend one another. Shizuku learns while acquainting herself with Seiji that he has a dream that he would like to fulfill, causing her dismay as she remains uncertain of her future and has yet to recognize her talents. However, as her relationship with Seiji grows, Shizuku becomes determined to work toward a goal. Guided by the whispers of her heart and inspiration from The Baron, she resolves to carve out her own potential and dreams.  \n",
       "0                                                                                                                                                                     Shuuzou ''Shuu'' Matsutani lives his ordinary life in peace. He has friends, a crush, and a passion for kendo. Dejected after losing to his kendo rival, Shuu climbs a smokestack to watch the sunset where he finds Lala-Ru, a quiet, blue-haired girl wearing a strange pendant. Shuu attempts to befriend her, despite her uninterested, bland responses. However, his hopes are crushed when a woman, accompanied by two serpentine machines, appear out of thin air with one goal in mind: capture Lala-Ru. Shuu, bull-headed as he is, tries to save his new friend from her kidnappers and is transported to a desert world, unlike anything he has ever seen before. Yet, despite the circumstances, Shuu only thinks of saving Lala-Ru, until he is thoroughly beaten up by some soldiers. As he soon finds out, Lala-Ru can manipulate water and her pendant is the source from which she is able to bring forth the liquid, a scarce commodity in his new environment. But now, the pendant is lost, and Shuu is the prime suspect. Ima, Soko ni Iru Boku is the haunting story of a dystopian world, and of Shuu, who has to endure torture, hunger, and the horrors of war in order to save the lonely girl he found sitting atop a smokestack.  \n",
       "4  In the distant future, humanity has been driven to near-extinction by giant beasts known as Klaxosaurs, forcing the surviving humans to take refuge in massive fortress cities called Plantations. Children raised here are trained to pilot giant mechas known as FranXX—the only weapons known to be effective against the Klaxosaurs—in boy-girl pairs. Bred for the sole purpose of piloting these machines, these children know nothing of the outside world and are only able to prove their existence by defending their race. Hiro, an aspiring FranXX pilot, has lost his motivation and self-confidence after failing an aptitude test. Skipping out on his class' graduation ceremony, Hiro retreats to a forest lake, where he encounters a mysterious girl with two horns growing out of her head. She introduces herself by her codename Zero Two, which is known to belong to an infamous FranXX pilot known as the \"Partner Killer.\" Before Hiro can digest the encounter, the Plantation is rocked by a sudden Klaxosaur attack. Zero Two engages the creature in her FranXX, but it is heavily damaged in the skirmish and crashes near Hiro. Finding her partner dead, Zero Two invites Hiro to pilot the mecha with her, and the duo easily defeats the Klaxosaur in the ensuing fight. With a new partner by his side, Hiro has been given a chance at redemption for his past failures, but at what cost?  \n",
       "5                                                                                                                                                                                                                                                                                                                                                                                                                                                                                                                                                                                                                                                                                                                                                                                                                                                                                                                                                                                                                                                                                                                                                                                                                                                                                                            Fireball takes place during the war between humans and robots. There is no real story, just individual episode skits.  \n",
       "7                                                                                                                                                                                                                                                                                                                                                        Ever since the death of his father, the burden of supporting the family has fallen upon Tanjirou Kamado's shoulders. Though living impoverished on a remote mountain, the Kamado family are able to enjoy a relatively peaceful and happy life. One day, Tanjirou decides to go down to the local village to make a little money selling charcoal. On his way back, night falls, forcing Tanjirou to take shelter in the house of a strange man, who warns him of the existence of flesh-eating demons that lurk in the woods at night. When he finally arrives back home the next day, he is met with a horrifying sight—his whole family has been slaughtered. Worse still, the sole survivor is his sister Nezuko, who has been turned into a bloodthirsty demon. Consumed by rage and hatred, Tanjirou swears to avenge his family and stay by his only remaining sibling. Alongside the mysterious group calling themselves the Demon Slayer Corps, Tanjirou will do whatever it takes to slay the demons and protect the remnants of his beloved sister's humanity.  \n",
       "3                                                                                                                                                                                                                                                                                                                                                                                                                                                                                                                                                  out to enter junior high school, Karada Iokawa is a cheerful and reliable girl, who hates being treated as a child more than anything. After her parents' deaths, her older brother, Hiro, comes back from studying abroad to take care of her. His ex-girlfriend Shouko Nogami, a composed yet sometimes childish and stubborn young woman, follows him to Japan in order to find out why he left her. Between the two girls, the atmosphere is tense, which eventually leads to Shouko calling Karada childish. Later, Karada stands before a shrine praying to grow up. Little does she know that the shrine wishing stone would grant her wish. As Karada grows older, at the same time, Shouko, who happens to be nearby, finds herself a child once again. With their ages now reversed, Shouko and Karada must come to terms with one another and ultimately themselves.  \n",
       "8                                                                                                                                                                                                                                                                                                                                                                                                                                                It looked like it would be a normal day for Ganta Igarashi and his classmates—they were preparing to go on a class field trip to a certain prison amusement park called Deadman Wonderland, where the convicts perform dangerous acts for the onlookers' amusement. However, Ganta's life is quickly turned upside down when his whole class gets massacred by a mysterious man in red. Framed for the incident and sentenced to death, Ganta is sent to the very jail he was supposed to visit. But Ganta's nightmare is only just beginning. The young protagonist is thrown into a world of sadistic inmates and enigmatic powers, to live in constant fear of the lethal collar placed around his neck that is slowed only by winning in the prison's deathly games. Ganta must bet his life to survive in a ruthless place where it isn't always easy to tell friend from foe, all while trying to find the mysterious \"Red Man\" and clear his name, in Deadman Wonderland .  \n",
       "9                                                                                                                                                                                                                                                                                                                                                                                                                                                                                                  fter dying a laughable and pathetic death on his way back from buying a game, high school student and recluse Kazuma Satou finds himself sitting before a beautiful but obnoxious goddess named Aqua. She provides the NEET with two options: continue on to heaven or reincarnate in every gamer's dream—a real fantasy world! Choosing to start a new life, Kazuma is quickly tasked with defeating a Demon King who is terrorizing villages. But before he goes, he can choose one item of any kind to aid him in his quest, and the future hero selects Aqua. But Kazuma has made a grave mistake—Aqua is completely useless! Unfortunately, their troubles don't end here; it turns out that living in such a world is far different from how it plays out in a game. Instead of going on a thrilling adventure, the duo must first work to pay for their living expenses. Indeed, their misfortunes have only just begun!  "
      ]
     },
     "execution_count": 34,
     "metadata": {},
     "output_type": "execute_result"
    }
   ],
   "source": [
    "print(\"Showing recommendations for user: {}\".format(random_user))\n",
    "print(\"===\" * 25)\n",
    "\n",
    "animes_watched_by_user = rating_df[rating_df.user_id==random_user]\n",
    "anime_not_watched_df = df[\n",
    "    ~df[\"anime_id\"].isin(animes_watched_by_user.anime_id.values)\n",
    "]\n",
    "\n",
    "anime_not_watched = list(\n",
    "    set(anime_not_watched_df['anime_id']).intersection(set(anime2anime_encoded.keys()))\n",
    ")\n",
    "\n",
    "anime_not_watched = [[anime2anime_encoded.get(x)] for x in anime_not_watched]\n",
    "\n",
    "user_encoder = user2user_encoded.get(random_user)\n",
    "\n",
    "user_anime_array = np.hstack(\n",
    "    ([[user_encoder]] * len(anime_not_watched), anime_not_watched)\n",
    ")\n",
    "\n",
    "user_anime_array = [user_anime_array[:, 0], user_anime_array[:, 1]]\n",
    "ratings = model.predict(user_anime_array).flatten()\n",
    "\n",
    "top_ratings_indices = (-ratings).argsort()[:10]\n",
    "\n",
    "recommended_anime_ids = [\n",
    "    anime_encoded2anime.get(anime_not_watched[x][0]) for x in top_ratings_indices\n",
    "]\n",
    "\n",
    "Results = []\n",
    "top_rated_ids = []\n",
    "\n",
    "for index, anime_id in enumerate(anime_not_watched):\n",
    "    rating = ratings[index]\n",
    "    id_ = anime_encoded2anime.get(anime_id[0])\n",
    "    \n",
    "    if id_ in recommended_anime_ids:\n",
    "        top_rated_ids.append(id_)\n",
    "        try:\n",
    "            condition = (df.anime_id == id_)\n",
    "            name = df[condition]['eng_version'].values[0]\n",
    "            genre = df[condition].Genders.values[0]\n",
    "            score = df[condition].Score.values[0]\n",
    "            sypnopsis = getSypnopsis(int(id_))\n",
    "        except:\n",
    "            continue\n",
    "            \n",
    "        Results.append({#\"anime_id\": id_, \n",
    "                        \"name\": name, \n",
    "                        \"pred_rating\": rating,\n",
    "                        \"genre\": genre, \n",
    "                        'sypnopsis': sypnopsis})\n",
    "\n",
    "print(\"---\" * 25)\n",
    "print(\"> Top 10 anime recommendations\")\n",
    "print(\"---\" * 25)\n",
    "\n",
    "\n",
    "Results = pd.DataFrame(Results).sort_values(by='pred_rating', ascending=False)\n",
    "Results"
   ]
  },
  {
   "cell_type": "code",
   "execution_count": 35,
   "id": "satisfied-electricity",
   "metadata": {
    "execution": {
     "iopub.execute_input": "2021-06-09T16:02:06.235802Z",
     "iopub.status.busy": "2021-06-09T16:02:06.235150Z",
     "iopub.status.idle": "2021-06-09T16:02:06.888921Z",
     "shell.execute_reply": "2021-06-09T16:02:06.889383Z",
     "shell.execute_reply.started": "2021-06-09T15:50:42.398745Z"
    },
    "papermill": {
     "duration": 1.913548,
     "end_time": "2021-06-09T16:02:06.889572",
     "exception": false,
     "start_time": "2021-06-09T16:02:04.976024",
     "status": "completed"
    },
    "tags": []
   },
   "outputs": [
    {
     "data": {
      "text/html": [
       "<a href='./anime_model.h5' target='_blank'>./anime_model.h5</a><br>"
      ],
      "text/plain": [
       "/kaggle/working/anime_model.h5"
      ]
     },
     "execution_count": 35,
     "metadata": {},
     "output_type": "execute_result"
    }
   ],
   "source": [
    "model.save('anime_model.h5')\n",
    "\n",
    "from IPython.display import FileLink\n",
    "FileLink(r'./anime_model.h5')"
   ]
  },
  {
   "cell_type": "code",
   "execution_count": null,
   "id": "modern-equation",
   "metadata": {
    "papermill": {
     "duration": 1.240953,
     "end_time": "2021-06-09T16:02:09.379142",
     "exception": false,
     "start_time": "2021-06-09T16:02:08.138189",
     "status": "completed"
    },
    "tags": []
   },
   "outputs": [],
   "source": []
  }
 ],
 "metadata": {
  "kernelspec": {
   "display_name": "Python 3 (ipykernel)",
   "language": "python",
   "name": "python3"
  },
  "language_info": {
   "codemirror_mode": {
    "name": "ipython",
    "version": 3
   },
   "file_extension": ".py",
   "mimetype": "text/x-python",
   "name": "python",
   "nbconvert_exporter": "python",
   "pygments_lexer": "ipython3",
   "version": "3.9.13"
  },
  "papermill": {
   "default_parameters": {},
   "duration": 647.89608,
   "end_time": "2021-06-09T16:02:12.770746",
   "environment_variables": {},
   "exception": null,
   "input_path": "__notebook__.ipynb",
   "output_path": "__notebook__.ipynb",
   "parameters": {},
   "start_time": "2021-06-09T15:51:24.874666",
   "version": "2.3.3"
  }
 },
 "nbformat": 4,
 "nbformat_minor": 5
}
